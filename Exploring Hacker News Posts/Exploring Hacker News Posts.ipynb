{
 "cells": [
  {
   "cell_type": "markdown",
   "metadata": {
    "collapsed": true
   },
   "source": [
    "# Project: Exploring Hacker News Posts\n",
    "In this project, we'll work with a data set of submissions to popular technology site __[Hacker News](https://news.ycombinator.com/)__.\n",
    "\n",
    "Hacker News is a site started by the startup incubator __[Y Combinator](https://www.ycombinator.com/)__, where user-submitted stories (known as \"posts\") are voted and commented upon, similar to reddit. Hacker News is extremely popular in technology and startup circles, and posts that make it to the top of Hacker News' listings can get hundreds of thousands of visitors as a result.\n",
    "\n"
   ]
  },
  {
   "cell_type": "markdown",
   "metadata": {},
   "source": [
    "# Dataset"
   ]
  },
  {
   "cell_type": "markdown",
   "metadata": {},
   "source": [
    "We are going to use the data set \"hacker_news.csv\". You can find the data set __[here](https://www.kaggle.com/hacker-news/hacker-news-posts)__, but note that it has been reduced from almost 300,000 rows to approximately 20,000 rows by removing all submissions that did not receive any comments, and then randomly sampling from the remaining submissions."
   ]
  },
  {
   "cell_type": "markdown",
   "metadata": {},
   "source": [
    "# Goal"
   ]
  },
  {
   "cell_type": "markdown",
   "metadata": {},
   "source": [
    "In this small project, we're specifically interested in posts whose titles begin with either Ask HN or Show HN. Users submit Ask HN posts to ask the Hacker News community a specific question.\n",
    "\n",
    "Likewise, users submit Show HN posts to show the Hacker News community a project, product, or just generally something interesting.\n",
    "\n",
    "We'll compare these two types of posts to determine the following:\n",
    "\n",
    "Do Ask HN or Show HN receive more comments on average?\n",
    "\n",
    "Do posts created at a certain time receive more comments on average?"
   ]
  },
  {
   "cell_type": "markdown",
   "metadata": {},
   "source": [
    "# Summary of Results"
   ]
  },
  {
   "cell_type": "markdown",
   "metadata": {},
   "source": [
    "After analyzing the data, we can infer that: \n",
    "    \n",
    "Show HN receives more comments than Ask HN on average\n",
    "\n",
    "Base on the Show HN and Ask HN data, we think that late night US eastern time is the best time to post on Hacker News\n"
   ]
  },
  {
   "cell_type": "markdown",
   "metadata": {},
   "source": [
    "# Exploring and Preparing the dataset"
   ]
  },
  {
   "cell_type": "code",
   "execution_count": 89,
   "metadata": {},
   "outputs": [
    {
     "name": "stdout",
     "output_type": "stream",
     "text": [
      "The headers of the dataset:\n",
      "\n",
      "\n",
      "['id', 'title', 'url', 'num_points', 'num_comments', 'author', 'created_at']\n",
      "\n",
      "\n",
      "The first 5 rows of the dataset:\n",
      "\n",
      "\n",
      "['12224879', 'Interactive Dynamic Video', 'http://www.interactivedynamicvideo.com/', '386', '52', 'ne0phyte', '8/4/2016 11:52']\n",
      "\n",
      "\n",
      "['10975351', 'How to Use Open Source and Shut the Fuck Up at the Same Time', 'http://hueniverse.com/2016/01/26/how-to-use-open-source-and-shut-the-fuck-up-at-the-same-time/', '39', '10', 'josep2', '1/26/2016 19:30']\n",
      "\n",
      "\n",
      "['11964716', \"Florida DJs May Face Felony for April Fools' Water Joke\", 'http://www.thewire.com/entertainment/2013/04/florida-djs-april-fools-water-joke/63798/', '2', '1', 'vezycash', '6/23/2016 22:20']\n",
      "\n",
      "\n",
      "['11919867', 'Technology ventures: From Idea to Enterprise', 'https://www.amazon.com/Technology-Ventures-Enterprise-Thomas-Byers/dp/0073523429', '3', '1', 'hswarna', '6/17/2016 0:01']\n",
      "\n",
      "\n",
      "['10301696', 'Note by Note: The Making of Steinway L1037 (2007)', 'http://www.nytimes.com/2007/11/07/movies/07stein.html?_r=0', '8', '2', 'walterbell', '9/30/2015 4:12']\n",
      "\n",
      "\n"
     ]
    }
   ],
   "source": [
    "# open and read 'hacker_news.csv'\n",
    "from csv import reader\n",
    "open_filed = open('hacker_news.csv')\n",
    "read_filed = reader(open_filed)\n",
    "hn = list(read_filed)\n",
    "headers = hn[0]\n",
    "hn = hn[1:]\n",
    "print(\"The headers of the dataset:\")\n",
    "print('\\n')\n",
    "print(headers)\n",
    "print('\\n')\n",
    "# print the first 5 rows of the dataset\n",
    "print('The first 5 rows of the dataset:')\n",
    "print('\\n')\n",
    "for row in hn[:5]:\n",
    "    print(row)\n",
    "    print('\\n')\n",
    "    \n"
   ]
  },
  {
   "cell_type": "markdown",
   "metadata": {},
   "source": [
    "Since we're only concerned with post titles beginning with Ask HN or Show HN, we'll create new lists of lists containing just the data for those titles.\n"
   ]
  },
  {
   "cell_type": "code",
   "execution_count": 23,
   "metadata": {},
   "outputs": [
    {
     "name": "stdout",
     "output_type": "stream",
     "text": [
      "Length of ask_posts, show_posts, other_posts respectively:\n",
      "1744 1162 17194\n",
      "\n",
      "\n",
      "First five rows in the ask_posts list of lists:\n",
      "['12296411', 'Ask HN: How to improve my personal website?', '', '2', '6', 'ahmedbaracat', '8/16/2016 9:55']\n",
      "\n",
      "\n",
      "['10610020', 'Ask HN: Am I the only one outraged by Twitter shutting down share counts?', '', '28', '29', 'tkfx', '11/22/2015 13:43']\n",
      "\n",
      "\n",
      "['11610310', 'Ask HN: Aby recent changes to CSS that broke mobile?', '', '1', '1', 'polskibus', '5/2/2016 10:14']\n",
      "\n",
      "\n",
      "['12210105', 'Ask HN: Looking for Employee #3 How do I do it?', '', '1', '3', 'sph130', '8/2/2016 14:20']\n",
      "\n",
      "\n",
      "['10394168', 'Ask HN: Someone offered to buy my browser extension from me. What now?', '', '28', '17', 'roykolak', '10/15/2015 16:38']\n",
      "\n",
      "\n"
     ]
    }
   ],
   "source": [
    "# initiate a list contains Ask HN posts\n",
    "ask_posts = []\n",
    "\n",
    "# initiate a list contains Show HN posts\n",
    "show_posts = []\n",
    "\n",
    "# initiate a list contains all other posts\n",
    "other_posts = []\n",
    "# populate the lists\n",
    "for row in hn:\n",
    "    title = row[1]\n",
    "    if title.lower().startswith('ask hn'):\n",
    "        ask_posts.append(row)\n",
    "    elif title.lower().startswith('show hn'):\n",
    "        show_posts.append(row)\n",
    "    else:\n",
    "        other_posts.append(row)\n",
    "\n",
    "# checking the length of each list\n",
    "print(\"Length of ask_posts, show_posts, other_posts respectively:\")\n",
    "print(len(ask_posts), len(show_posts), len(other_posts))\n",
    "print('\\n')\n",
    "# first five rows in the ask_posts list of lists:\n",
    "print('First five rows in the ask_posts list of lists:')\n",
    "print('\\n')\n",
    "for item in ask_posts[:5]:\n",
    "    print(item)\n",
    "    print('\\n')\n",
    "    \n"
   ]
  },
  {
   "cell_type": "code",
   "execution_count": 25,
   "metadata": {},
   "outputs": [
    {
     "name": "stdout",
     "output_type": "stream",
     "text": [
      "First five rows in the show_posts list of lists:\n",
      "\n",
      "\n",
      "['10627194', 'Show HN: Wio Link  ESP8266 Based Web of Things Hardware Development Platform', 'https://iot.seeed.cc', '26', '22', 'kfihihc', '11/25/2015 14:03']\n",
      "\n",
      "\n",
      "['10646440', 'Show HN: Something pointless I made', 'http://dn.ht/picklecat/', '747', '102', 'dhotson', '11/29/2015 22:46']\n",
      "\n",
      "\n",
      "['11590768', 'Show HN: Shanhu.io, a programming playground powered by e8vm', 'https://shanhu.io', '1', '1', 'h8liu', '4/28/2016 18:05']\n",
      "\n",
      "\n",
      "['12178806', 'Show HN: Webscope  Easy way for web developers to communicate with Clients', 'http://webscopeapp.com', '3', '3', 'fastbrick', '7/28/2016 7:11']\n",
      "\n",
      "\n",
      "['10872799', 'Show HN: GeoScreenshot  Easily test Geo-IP based web pages', 'https://www.geoscreenshot.com/', '1', '9', 'kpsychwave', '1/9/2016 20:45']\n",
      "\n",
      "\n"
     ]
    }
   ],
   "source": [
    "# first five rows in the show_posts list of lists:\n",
    "print('First five rows in the show_posts list of lists:')\n",
    "print('\\n')\n",
    "for item in show_posts[:5]:\n",
    "    print(item)\n",
    "    print('\\n')"
   ]
  },
  {
   "cell_type": "markdown",
   "metadata": {},
   "source": [
    "# Do Ask HN or Show HN receive more comments on average?"
   ]
  },
  {
   "cell_type": "markdown",
   "metadata": {},
   "source": [
    "Next, let's determine if Ask posts or Show posts receive more comments on average."
   ]
  },
  {
   "cell_type": "code",
   "execution_count": 87,
   "metadata": {},
   "outputs": [
    {
     "name": "stdout",
     "output_type": "stream",
     "text": [
      "Average number of comments on ask posts: 14.04\n",
      "Average number of comments on show posts: 20.91\n",
      "===============================================================\n"
     ]
    }
   ],
   "source": [
    "total_ask_comments = 0\n",
    "for row in ask_posts:\n",
    "    num_comments = int(row[4])\n",
    "    total_ask_comments += num_comments\n",
    "\n",
    "avg_ask_comments = total_ask_comments/ len(ask_posts)\n",
    "print('Average number of comments on ask posts: {:.2f}'.format(avg_ask_comments))\n",
    "\n",
    "for row in show_posts:\n",
    "    num_comments = int(row[4])\n",
    "    total_ask_comments += num_comments\n",
    "\n",
    "avg_show_comments = total_ask_comments/ len(ask_posts)\n",
    "print('Average number of comments on show posts: {:.2f}'.format(avg_show_comments))\n"
   ]
  },
  {
   "cell_type": "markdown",
   "metadata": {},
   "source": [
    "As we can see on average Show HN posts received more comments than Ask HN posts"
   ]
  },
  {
   "cell_type": "markdown",
   "metadata": {},
   "source": [
    "# Do posts created at a certain time receive more comments on average?"
   ]
  },
  {
   "cell_type": "markdown",
   "metadata": {},
   "source": [
    "Next, we'll determine if ask posts created at a certain time are more likely to attract comments. \n",
    "\n",
    "To accomplish this we will alculate the average number of comments for posts created during each hour of the day.\n",
    "\n"
   ]
  },
  {
   "cell_type": "markdown",
   "metadata": {},
   "source": [
    "First let's look at the data foe Ask posts"
   ]
  },
  {
   "cell_type": "code",
   "execution_count": 92,
   "metadata": {},
   "outputs": [],
   "source": [
    "# Calculate the average number of comments for posts created\n",
    "# during each hour of the day, and extract the data into the result_list\n",
    "import datetime as dt\n",
    "result_list = []\n",
    "\n",
    "for row in ask_posts:\n",
    "    date = row[-1]\n",
    "    num_comments = int(row[4])\n",
    "    result_list.append([date, num_comments])\n",
    "\n",
    "counts_by_hour = {}\n",
    "comments_by_hour = {}\n",
    "\n",
    "for row in result_list:\n",
    "    date = dt.datetime.strptime(row[0], \"%m/%d/%Y %H:%M\")\n",
    "    hour = date.hour\n",
    "    if hour in counts_by_hour:\n",
    "        counts_by_hour[hour] += 1\n",
    "        comments_by_hour[hour] += row[1]\n",
    "    else:\n",
    "        counts_by_hour[hour] = 1\n",
    "        comments_by_hour[hour] = row[1]\n",
    "        \n",
    "avg_by_hour = []\n",
    "for hour in counts_by_hour:\n",
    "    avg_by_hour.append([hour, comments_by_hour[hour]/counts_by_hour[hour]])\n",
    "\n",
    "# for row in avg_by_hour[:5]:\n",
    "#     print(row)\n",
    "#     print('\\n')\n"
   ]
  },
  {
   "cell_type": "code",
   "execution_count": 91,
   "metadata": {},
   "outputs": [
    {
     "name": "stdout",
     "output_type": "stream",
     "text": [
      "Top 5 Hours for Ask Posts Comments: \n",
      "\n",
      "\n",
      "15:00: 38.59 average comments per post\n",
      "\n",
      "\n",
      "02:00: 23.81 average comments per post\n",
      "\n",
      "\n",
      "20:00: 21.52 average comments per post\n",
      "\n",
      "\n",
      "16:00: 16.80 average comments per post\n",
      "\n",
      "\n",
      "21:00: 16.01 average comments per post\n",
      "\n",
      "\n"
     ]
    }
   ],
   "source": [
    "# sort the result_list to find the answer\n",
    "swap_avg_by_hour = []\n",
    "for row in avg_by_hour:\n",
    "    swap_avg_by_hour.append([row[1], row[0]])\n",
    "    \n",
    "# for row in swap_avg_by_hour:\n",
    "#     print(row)\n",
    "#     print('\\n')\n",
    "    \n",
    "sorted_swap = sorted(swap_avg_by_hour, reverse = True)\n",
    "print(\"Top 5 Hours for Ask Posts Comments: \")   \n",
    "print('\\n')\n",
    "\n",
    "for row in sorted_swap[:5]:\n",
    "    hour = dt.datetime.strptime(str(row[1]), \"%H\")\n",
    "    hour = hour.strftime(\"%H:%M\")\n",
    "    print(\"{}: {:.2f} average comments per post\".format(hour, row[0]))   \n",
    "    print('\\n')"
   ]
  },
  {
   "cell_type": "markdown",
   "metadata": {},
   "source": [
    "For Ask Posts, we can see that the posts receive the most comments are those posted from 15:00 with around 38.59 comments per hour on average. Late night posts around 2:00 also recieve a fair bit of interactions with about 23.81 comments on average. Posts made at around 16:00 also recieve about 16.8 comments on average. Hence we can infer that:\n",
    "\n",
    "the best time to post in the ask HN is in the middle of the afternoon from 15:00 to 16:00 or late at night at about 2:00 US eastern time\n",
    "\n"
   ]
  },
  {
   "cell_type": "markdown",
   "metadata": {},
   "source": [
    "Now, let's look at the data foe Show posts"
   ]
  },
  {
   "cell_type": "code",
   "execution_count": 93,
   "metadata": {},
   "outputs": [],
   "source": [
    "# Calculate the average number of comments for posts created\n",
    "# during each hour of the day, and extract the data into the result_list\n",
    "import datetime as dt\n",
    "result_list = []\n",
    "\n",
    "for row in show_posts:\n",
    "    date = row[-1]\n",
    "    num_comments = int(row[4])\n",
    "    result_list.append([date, num_comments])\n",
    "\n",
    "counts_by_hour = {}\n",
    "comments_by_hour = {}\n",
    "\n",
    "for row in result_list:\n",
    "    date = dt.datetime.strptime(row[0], \"%m/%d/%Y %H:%M\")\n",
    "    hour = date.hour\n",
    "    if hour in counts_by_hour:\n",
    "        counts_by_hour[hour] += 1\n",
    "        comments_by_hour[hour] += row[1]\n",
    "    else:\n",
    "        counts_by_hour[hour] = 1\n",
    "        comments_by_hour[hour] = row[1]\n",
    "        \n",
    "avg_by_hour = []\n",
    "for hour in counts_by_hour:\n",
    "    avg_by_hour.append([hour, comments_by_hour[hour]/counts_by_hour[hour]])\n"
   ]
  },
  {
   "cell_type": "code",
   "execution_count": 94,
   "metadata": {},
   "outputs": [
    {
     "name": "stdout",
     "output_type": "stream",
     "text": [
      "Top 5 Hours for Show Posts Comments: \n",
      "\n",
      "\n",
      "18:00: 15.77 average comments per post\n",
      "\n",
      "\n",
      "00:00: 15.71 average comments per post\n",
      "\n",
      "\n",
      "14:00: 13.44 average comments per post\n",
      "\n",
      "\n",
      "23:00: 12.42 average comments per post\n",
      "\n",
      "\n",
      "22:00: 12.39 average comments per post\n",
      "\n",
      "\n"
     ]
    }
   ],
   "source": [
    "# sort the result_list to find the answer\n",
    "swap_avg_by_hour = []\n",
    "for row in avg_by_hour:\n",
    "    swap_avg_by_hour.append([row[1], row[0]])\n",
    "    \n",
    "# for row in swap_avg_by_hour:\n",
    "#     print(row)\n",
    "#     print('\\n')\n",
    "    \n",
    "sorted_swap = sorted(swap_avg_by_hour, reverse = True)\n",
    "print(\"Top 5 Hours for Show Posts Comments: \")   \n",
    "print('\\n')\n",
    "\n",
    "for row in sorted_swap[:5]:\n",
    "    hour = dt.datetime.strptime(str(row[1]), \"%H\")\n",
    "    hour = hour.strftime(\"%H:%M\")\n",
    "    print(\"{}: {:.2f} average comments per post\".format(hour, row[0]))   \n",
    "    print('\\n')"
   ]
  },
  {
   "cell_type": "markdown",
   "metadata": {},
   "source": [
    "The two stand out times to make a Show Post are around 18:00 or 0:00. \n",
    "\n",
    "The posts at around 18:00 have around 15.77 comments on average. \n",
    "\n",
    "While the posts around 0:00 have around 15.71 comments on average."
   ]
  },
  {
   "cell_type": "markdown",
   "metadata": {},
   "source": [
    "# Conclusion\n"
   ]
  },
  {
   "cell_type": "markdown",
   "metadata": {},
   "source": [
    "Base on the data on Show Posts and Ask Posts, we can infer that:\n",
    "\n",
    "Show Posts tend to have more interactions than Ask Post on average.\n",
    "\n",
    "Late night post, US eastern time, on Hacker News tend to get most comments, and thus late at night may be the best time to post on Hacker News"
   ]
  }
 ],
 "metadata": {
  "kernelspec": {
   "display_name": "Python 3",
   "language": "python",
   "name": "python3"
  },
  "language_info": {
   "codemirror_mode": {
    "name": "ipython",
    "version": 3
   },
   "file_extension": ".py",
   "mimetype": "text/x-python",
   "name": "python",
   "nbconvert_exporter": "python",
   "pygments_lexer": "ipython3",
   "version": "3.7.3"
  }
 },
 "nbformat": 4,
 "nbformat_minor": 2
}
