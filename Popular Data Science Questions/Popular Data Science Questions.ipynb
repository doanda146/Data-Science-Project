{
 "cells": [
  {
   "cell_type": "markdown",
   "metadata": {},
   "source": [
    "## Introduction"
   ]
  },
  {
   "cell_type": "markdown",
   "metadata": {},
   "source": [
    "Stack Exchange is a network of question-and-answer websites on topics in diverse fields. It is a  hosts sites on a multitude of fields and subjects, including mathematics, physics, philosophy, and most importantly data science! In this project, we will investigate the data available on Stack Exchange Data Science (DSSE) to uncover some of the most popular topics on the sight. This information will give us insights on what are the relevent topics in the field of data science to give suggestions on what education contents we can make to help out people that are learning to become a data scientist."
   ]
  },
  {
   "cell_type": "markdown",
   "metadata": {},
   "source": [
    "## Results Summary"
   ]
  },
  {
   "cell_type": "markdown",
   "metadata": {},
   "source": [
    "We findout that \n",
    "* The most asked topic on DSSE are toics that related to deep learning and pythong.\n",
    "* We should making tutorials of Python contents that use deep learning.\n",
    "\n",
    "For more details, please refer to the the full analysis below."
   ]
  },
  {
   "cell_type": "markdown",
   "metadata": {},
   "source": [
    "## To get the relevant data we run the following query.\n",
    "Stack Exchange provides a public data base for each of its websites. Here's a [link](https://data.stackexchange.com/datascience/query/new) to query and explore Data Science Stack Exchange's database. To get the relevant data we run the following query.\n",
    "\n",
    "SELECT Id, CreationDate,\n",
    "       Score, ViewCount, Tags,\n",
    "       AnswerCount, FavoriteCount\n",
    "       \n",
    "FROM posts\n",
    "\n",
    "WHERE PostTypeId = 1 AND YEAR(CreationDate) = 2020;\n",
    "\n",
    "We save the data in '2020_questions.csv'."
   ]
  },
  {
   "cell_type": "markdown",
   "metadata": {},
   "source": [
    "## Exploring the Data"
   ]
  },
  {
   "cell_type": "code",
   "execution_count": 25,
   "metadata": {},
   "outputs": [],
   "source": [
    "import pandas as pd\n",
    "import matplotlib.pyplot as plt\n",
    "\n",
    "%matplotlib inline"
   ]
  },
  {
   "cell_type": "code",
   "execution_count": 26,
   "metadata": {},
   "outputs": [],
   "source": [
    "# read in the data\n",
    "questions = pd.read_csv(\"2020_questions.csv\", parse_dates=[\"CreationDate\"])"
   ]
  },
  {
   "cell_type": "markdown",
   "metadata": {},
   "source": [
    "Our dataframe has the following column:\n",
    "\n",
    "* Id: An identification number for the post.\n",
    "* PostTypeId: An identification number for the type of post.\n",
    "* CreationDate: The date and time of creation of the post.\n",
    "* Score: The post's score.\n",
    "* ViewCount: How many times the post was viewed.\n",
    "* Tags: What tags were used.\n",
    "* AnswerCount: How many answers the question got (only applicable to question posts).\n",
    "* FavoriteCount: How many times the question was favored (only applicable to question posts)."
   ]
  },
  {
   "cell_type": "markdown",
   "metadata": {},
   "source": [
    "Investigate missing value and data type of the datafarm "
   ]
  },
  {
   "cell_type": "code",
   "execution_count": 3,
   "metadata": {},
   "outputs": [
    {
     "name": "stdout",
     "output_type": "stream",
     "text": [
      "<class 'pandas.core.frame.DataFrame'>\n",
      "RangeIndex: 6663 entries, 0 to 6662\n",
      "Data columns (total 7 columns):\n",
      " #   Column         Non-Null Count  Dtype         \n",
      "---  ------         --------------  -----         \n",
      " 0   Id             6663 non-null   int64         \n",
      " 1   CreationDate   6663 non-null   datetime64[ns]\n",
      " 2   Score          6663 non-null   int64         \n",
      " 3   ViewCount      6663 non-null   int64         \n",
      " 4   Tags           6663 non-null   object        \n",
      " 5   AnswerCount    6663 non-null   int64         \n",
      " 6   FavoriteCount  998 non-null    float64       \n",
      "dtypes: datetime64[ns](1), float64(1), int64(4), object(1)\n",
      "memory usage: 364.5+ KB\n"
     ]
    }
   ],
   "source": [
    "questions.info()"
   ]
  },
  {
   "cell_type": "markdown",
   "metadata": {},
   "source": [
    "We see that only FavoriteCount has missing values. A missing value on this column probably means that the question was is not present in any users' favorite list, so we can replace the missing values with zero.\n",
    "\n",
    "The types seem adequate for every column, however, after we fill in the missing values on FavoriteCount, there is no reason to store the values as floats, and Tags object type need further investigation to see what types the objects in questions[\"Tags\"] are."
   ]
  },
  {
   "cell_type": "code",
   "execution_count": 4,
   "metadata": {},
   "outputs": [
    {
     "data": {
      "text/plain": [
       "array([<class 'str'>], dtype=object)"
      ]
     },
     "execution_count": 4,
     "metadata": {},
     "output_type": "execute_result"
    }
   ],
   "source": [
    "questions[\"Tags\"].apply(lambda value: type(value)).unique()"
   ]
  },
  {
   "cell_type": "markdown",
   "metadata": {},
   "source": [
    "We see that every value in this column is a string."
   ]
  },
  {
   "cell_type": "code",
   "execution_count": 5,
   "metadata": {},
   "outputs": [
    {
     "data": {
      "text/plain": [
       "0         <machine-learning><time-series><forecasting>\n",
       "1                     <machine-learning><ai><research>\n",
       "2    <keras><lstm><sequence-to-sequence><attention-...\n",
       "3             <nlp><pandas><preprocessing><python-3.x>\n",
       "4                                <matplotlib><f1score>\n",
       "Name: Tags, dtype: object"
      ]
     },
     "execution_count": 5,
     "metadata": {},
     "output_type": "execute_result"
    }
   ],
   "source": [
    "questions[\"Tags\"].head()"
   ]
  },
  {
   "cell_type": "markdown",
   "metadata": {},
   "source": [
    "For the ease of doing data analysis, we will reformat the the strings in Tag so we can create a list of tag for each row"
   ]
  },
  {
   "cell_type": "markdown",
   "metadata": {},
   "source": [
    "## Data Cleaning"
   ]
  },
  {
   "cell_type": "markdown",
   "metadata": {},
   "source": [
    "We'll begin by fixing FavoriteCount."
   ]
  },
  {
   "cell_type": "code",
   "execution_count": 6,
   "metadata": {},
   "outputs": [
    {
     "data": {
      "text/plain": [
       "Id                        int64\n",
       "CreationDate     datetime64[ns]\n",
       "Score                     int64\n",
       "ViewCount                 int64\n",
       "Tags                     object\n",
       "AnswerCount               int64\n",
       "FavoriteCount             int32\n",
       "dtype: object"
      ]
     },
     "execution_count": 6,
     "metadata": {},
     "output_type": "execute_result"
    }
   ],
   "source": [
    "# fill in na values with 0\n",
    "questions.fillna(value={\"FavoriteCount\": 0}, inplace=True)\n",
    "# change data type to int\n",
    "questions[\"FavoriteCount\"] = questions[\"FavoriteCount\"].astype(int)\n",
    "questions.dtypes"
   ]
  },
  {
   "cell_type": "markdown",
   "metadata": {},
   "source": [
    "Let's modify the Tags column like we mention above"
   ]
  },
  {
   "cell_type": "code",
   "execution_count": 7,
   "metadata": {},
   "outputs": [
    {
     "name": "stderr",
     "output_type": "stream",
     "text": [
      "<ipython-input-7-10901a83800a>:2: FutureWarning: The default value of regex will change from True to False in a future version.\n",
      "  questions[\"Tags\"] = questions[\"Tags\"].str.replace(\"^<|>$\", \"\")\n"
     ]
    },
    {
     "data": {
      "text/html": [
       "<div>\n",
       "<style scoped>\n",
       "    .dataframe tbody tr th:only-of-type {\n",
       "        vertical-align: middle;\n",
       "    }\n",
       "\n",
       "    .dataframe tbody tr th {\n",
       "        vertical-align: top;\n",
       "    }\n",
       "\n",
       "    .dataframe thead th {\n",
       "        text-align: right;\n",
       "    }\n",
       "</style>\n",
       "<table border=\"1\" class=\"dataframe\">\n",
       "  <thead>\n",
       "    <tr style=\"text-align: right;\">\n",
       "      <th></th>\n",
       "      <th>Id</th>\n",
       "      <th>CreationDate</th>\n",
       "      <th>Score</th>\n",
       "      <th>ViewCount</th>\n",
       "      <th>Tags</th>\n",
       "      <th>AnswerCount</th>\n",
       "      <th>FavoriteCount</th>\n",
       "    </tr>\n",
       "  </thead>\n",
       "  <tbody>\n",
       "    <tr>\n",
       "      <th>0</th>\n",
       "      <td>74355</td>\n",
       "      <td>2020-05-17 17:04:30</td>\n",
       "      <td>2</td>\n",
       "      <td>39</td>\n",
       "      <td>[machine-learning, time-series, forecasting]</td>\n",
       "      <td>1</td>\n",
       "      <td>0</td>\n",
       "    </tr>\n",
       "    <tr>\n",
       "      <th>1</th>\n",
       "      <td>74356</td>\n",
       "      <td>2020-05-17 17:25:39</td>\n",
       "      <td>0</td>\n",
       "      <td>57</td>\n",
       "      <td>[machine-learning, ai, research]</td>\n",
       "      <td>1</td>\n",
       "      <td>0</td>\n",
       "    </tr>\n",
       "    <tr>\n",
       "      <th>2</th>\n",
       "      <td>74360</td>\n",
       "      <td>2020-05-17 19:11:57</td>\n",
       "      <td>1</td>\n",
       "      <td>126</td>\n",
       "      <td>[keras, lstm, sequence-to-sequence, attention-...</td>\n",
       "      <td>1</td>\n",
       "      <td>0</td>\n",
       "    </tr>\n",
       "    <tr>\n",
       "      <th>3</th>\n",
       "      <td>74362</td>\n",
       "      <td>2020-05-17 21:35:57</td>\n",
       "      <td>0</td>\n",
       "      <td>29</td>\n",
       "      <td>[nlp, pandas, preprocessing, python-3.x]</td>\n",
       "      <td>1</td>\n",
       "      <td>0</td>\n",
       "    </tr>\n",
       "    <tr>\n",
       "      <th>4</th>\n",
       "      <td>74363</td>\n",
       "      <td>2020-05-17 22:07:26</td>\n",
       "      <td>3</td>\n",
       "      <td>24</td>\n",
       "      <td>[matplotlib, f1score]</td>\n",
       "      <td>1</td>\n",
       "      <td>0</td>\n",
       "    </tr>\n",
       "  </tbody>\n",
       "</table>\n",
       "</div>"
      ],
      "text/plain": [
       "      Id        CreationDate  Score  ViewCount  \\\n",
       "0  74355 2020-05-17 17:04:30      2         39   \n",
       "1  74356 2020-05-17 17:25:39      0         57   \n",
       "2  74360 2020-05-17 19:11:57      1        126   \n",
       "3  74362 2020-05-17 21:35:57      0         29   \n",
       "4  74363 2020-05-17 22:07:26      3         24   \n",
       "\n",
       "                                                Tags  AnswerCount  \\\n",
       "0       [machine-learning, time-series, forecasting]            1   \n",
       "1                   [machine-learning, ai, research]            1   \n",
       "2  [keras, lstm, sequence-to-sequence, attention-...            1   \n",
       "3           [nlp, pandas, preprocessing, python-3.x]            1   \n",
       "4                              [matplotlib, f1score]            1   \n",
       "\n",
       "   FavoriteCount  \n",
       "0              0  \n",
       "1              0  \n",
       "2              0  \n",
       "3              0  \n",
       "4              0  "
      ]
     },
     "execution_count": 7,
     "metadata": {},
     "output_type": "execute_result"
    }
   ],
   "source": [
    "# remove '<' at the beginning and '>' at the end of the string\n",
    "questions[\"Tags\"] = questions[\"Tags\"].str.replace(\"^<|>$\", \"\")\n",
    "# split at'><' to make each row into a list\n",
    "questions[\"Tags\"] = questions[\"Tags\"].str.split(\"><\")\n",
    "questions.head()"
   ]
  },
  {
   "cell_type": "markdown",
   "metadata": {},
   "source": [
    "## Most Used and Most Viewed Tag"
   ]
  },
  {
   "cell_type": "markdown",
   "metadata": {},
   "source": [
    "We now focus on determining the most popular tags. We'll do so by considering two different popularity proxies: for each tag we'll count how many times the tag was used, and how many times a question with that tag was viewed."
   ]
  },
  {
   "cell_type": "markdown",
   "metadata": {},
   "source": [
    "We'll begin by counting how many times each tag was used"
   ]
  },
  {
   "cell_type": "code",
   "execution_count": 8,
   "metadata": {},
   "outputs": [
    {
     "data": {
      "text/html": [
       "<div>\n",
       "<style scoped>\n",
       "    .dataframe tbody tr th:only-of-type {\n",
       "        vertical-align: middle;\n",
       "    }\n",
       "\n",
       "    .dataframe tbody tr th {\n",
       "        vertical-align: top;\n",
       "    }\n",
       "\n",
       "    .dataframe thead th {\n",
       "        text-align: right;\n",
       "    }\n",
       "</style>\n",
       "<table border=\"1\" class=\"dataframe\">\n",
       "  <thead>\n",
       "    <tr style=\"text-align: right;\">\n",
       "      <th></th>\n",
       "      <th>Count</th>\n",
       "    </tr>\n",
       "  </thead>\n",
       "  <tbody>\n",
       "    <tr>\n",
       "      <th>dynamic-time-warping</th>\n",
       "      <td>1</td>\n",
       "    </tr>\n",
       "    <tr>\n",
       "      <th>.net</th>\n",
       "      <td>1</td>\n",
       "    </tr>\n",
       "    <tr>\n",
       "      <th>wikipedia</th>\n",
       "      <td>1</td>\n",
       "    </tr>\n",
       "    <tr>\n",
       "      <th>rust</th>\n",
       "      <td>1</td>\n",
       "    </tr>\n",
       "    <tr>\n",
       "      <th>nlg</th>\n",
       "      <td>1</td>\n",
       "    </tr>\n",
       "    <tr>\n",
       "      <th>...</th>\n",
       "      <td>...</td>\n",
       "    </tr>\n",
       "    <tr>\n",
       "      <th>keras</th>\n",
       "      <td>601</td>\n",
       "    </tr>\n",
       "    <tr>\n",
       "      <th>neural-network</th>\n",
       "      <td>763</td>\n",
       "    </tr>\n",
       "    <tr>\n",
       "      <th>deep-learning</th>\n",
       "      <td>949</td>\n",
       "    </tr>\n",
       "    <tr>\n",
       "      <th>python</th>\n",
       "      <td>1270</td>\n",
       "    </tr>\n",
       "    <tr>\n",
       "      <th>machine-learning</th>\n",
       "      <td>2005</td>\n",
       "    </tr>\n",
       "  </tbody>\n",
       "</table>\n",
       "<p>561 rows × 1 columns</p>\n",
       "</div>"
      ],
      "text/plain": [
       "                      Count\n",
       "dynamic-time-warping      1\n",
       ".net                      1\n",
       "wikipedia                 1\n",
       "rust                      1\n",
       "nlg                       1\n",
       "...                     ...\n",
       "keras                   601\n",
       "neural-network          763\n",
       "deep-learning           949\n",
       "python                 1270\n",
       "machine-learning       2005\n",
       "\n",
       "[561 rows x 1 columns]"
      ]
     },
     "execution_count": 8,
     "metadata": {},
     "output_type": "execute_result"
    }
   ],
   "source": [
    "# make a dictionary to count how many times each tag was used\n",
    "tag_count = dict()\n",
    "\n",
    "for tags in questions[\"Tags\"]:\n",
    "    for tag in tags:\n",
    "        if tag in tag_count:\n",
    "            tag_count[tag] += 1\n",
    "        else:\n",
    "            tag_count[tag] = 1\n",
    "# make tag_count into dataframe to prepare for visualization            \n",
    "tag_count = pd.DataFrame.from_dict(tag_count, orient=\"index\")\n",
    "tag_count.rename(columns={0: \"Count\"}, inplace=True)\n",
    "# sort the data by 'Count'\n",
    "tag_count.sort_values(by=\"Count\")"
   ]
  },
  {
   "cell_type": "markdown",
   "metadata": {},
   "source": [
    "There 526 unique tags in total but their counts seems to be decreasing quite rapidly. So picking out about 20 of the most use tags for further analysis should be enough for now."
   ]
  },
  {
   "cell_type": "code",
   "execution_count": 9,
   "metadata": {},
   "outputs": [
    {
     "data": {
      "text/html": [
       "<div>\n",
       "<style scoped>\n",
       "    .dataframe tbody tr th:only-of-type {\n",
       "        vertical-align: middle;\n",
       "    }\n",
       "\n",
       "    .dataframe tbody tr th {\n",
       "        vertical-align: top;\n",
       "    }\n",
       "\n",
       "    .dataframe thead th {\n",
       "        text-align: right;\n",
       "    }\n",
       "</style>\n",
       "<table border=\"1\" class=\"dataframe\">\n",
       "  <thead>\n",
       "    <tr style=\"text-align: right;\">\n",
       "      <th></th>\n",
       "      <th>Count</th>\n",
       "    </tr>\n",
       "  </thead>\n",
       "  <tbody>\n",
       "    <tr>\n",
       "      <th>feature-selection</th>\n",
       "      <td>185</td>\n",
       "    </tr>\n",
       "    <tr>\n",
       "      <th>predictive-modeling</th>\n",
       "      <td>189</td>\n",
       "    </tr>\n",
       "    <tr>\n",
       "      <th>r</th>\n",
       "      <td>202</td>\n",
       "    </tr>\n",
       "    <tr>\n",
       "      <th>clustering</th>\n",
       "      <td>221</td>\n",
       "    </tr>\n",
       "    <tr>\n",
       "      <th>statistics</th>\n",
       "      <td>231</td>\n",
       "    </tr>\n",
       "    <tr>\n",
       "      <th>pandas</th>\n",
       "      <td>251</td>\n",
       "    </tr>\n",
       "    <tr>\n",
       "      <th>lstm</th>\n",
       "      <td>263</td>\n",
       "    </tr>\n",
       "    <tr>\n",
       "      <th>dataset</th>\n",
       "      <td>266</td>\n",
       "    </tr>\n",
       "    <tr>\n",
       "      <th>cnn</th>\n",
       "      <td>309</td>\n",
       "    </tr>\n",
       "    <tr>\n",
       "      <th>regression</th>\n",
       "      <td>324</td>\n",
       "    </tr>\n",
       "    <tr>\n",
       "      <th>time-series</th>\n",
       "      <td>327</td>\n",
       "    </tr>\n",
       "    <tr>\n",
       "      <th>scikit-learn</th>\n",
       "      <td>463</td>\n",
       "    </tr>\n",
       "    <tr>\n",
       "      <th>tensorflow</th>\n",
       "      <td>508</td>\n",
       "    </tr>\n",
       "    <tr>\n",
       "      <th>nlp</th>\n",
       "      <td>533</td>\n",
       "    </tr>\n",
       "    <tr>\n",
       "      <th>classification</th>\n",
       "      <td>586</td>\n",
       "    </tr>\n",
       "    <tr>\n",
       "      <th>keras</th>\n",
       "      <td>601</td>\n",
       "    </tr>\n",
       "    <tr>\n",
       "      <th>neural-network</th>\n",
       "      <td>763</td>\n",
       "    </tr>\n",
       "    <tr>\n",
       "      <th>deep-learning</th>\n",
       "      <td>949</td>\n",
       "    </tr>\n",
       "    <tr>\n",
       "      <th>python</th>\n",
       "      <td>1270</td>\n",
       "    </tr>\n",
       "    <tr>\n",
       "      <th>machine-learning</th>\n",
       "      <td>2005</td>\n",
       "    </tr>\n",
       "  </tbody>\n",
       "</table>\n",
       "</div>"
      ],
      "text/plain": [
       "                     Count\n",
       "feature-selection      185\n",
       "predictive-modeling    189\n",
       "r                      202\n",
       "clustering             221\n",
       "statistics             231\n",
       "pandas                 251\n",
       "lstm                   263\n",
       "dataset                266\n",
       "cnn                    309\n",
       "regression             324\n",
       "time-series            327\n",
       "scikit-learn           463\n",
       "tensorflow             508\n",
       "nlp                    533\n",
       "classification         586\n",
       "keras                  601\n",
       "neural-network         763\n",
       "deep-learning          949\n",
       "python                1270\n",
       "machine-learning      2005"
      ]
     },
     "execution_count": 9,
     "metadata": {},
     "output_type": "execute_result"
    }
   ],
   "source": [
    "most_used = tag_count.sort_values(by=\"Count\").tail(20)\n",
    "most_used"
   ]
  },
  {
   "cell_type": "markdown",
   "metadata": {},
   "source": [
    "Let's do a bar plot for these data"
   ]
  },
  {
   "cell_type": "code",
   "execution_count": 16,
   "metadata": {},
   "outputs": [
    {
     "data": {
      "text/plain": [
       "<AxesSubplot:>"
      ]
     },
     "execution_count": 16,
     "metadata": {},
     "output_type": "execute_result"
    },
    {
     "data": {
      "image/png": "[encoded data removed]",
      "text/plain": [
       "<Figure size 1152x576 with 1 Axes>"
      ]
     },
     "metadata": {
      "needs_background": "light"
     },
     "output_type": "display_data"
    }
   ],
   "source": [
    "most_used.plot(kind=\"barh\",figsize=(16,8))"
   ]
  },
  {
   "cell_type": "markdown",
   "metadata": {},
   "source": [
    "machine learning, python, deep-learning, neural-network and keras are the top 5 most popular topics on DSSE. \n",
    "\n",
    "We know that deep-learning is a type of neural-network which is a more advance machine-learning technique and keras is a package that is available in python for deep learning.\n",
    "\n",
    "This result suggests that deep learning is the most popular topic in machine learning and most people were using the keras package on python to perform deep learning tasks."
   ]
  },
  {
   "cell_type": "markdown",
   "metadata": {},
   "source": [
    "Let's investigate the number of view for each tag.\n",
    "\n",
    "We'll need to use pandas's pandas.DataFrame.iterrows() for this task."
   ]
  },
  {
   "cell_type": "code",
   "execution_count": 18,
   "metadata": {},
   "outputs": [
    {
     "data": {
      "text/plain": [
       "<AxesSubplot:>"
      ]
     },
     "execution_count": 18,
     "metadata": {},
     "output_type": "execute_result"
    },
    {
     "data": {
      "image/png": "[encoded data removed]",
      "text/plain": [
       "<Figure size 1152x576 with 1 Axes>"
      ]
     },
     "metadata": {
      "needs_background": "light"
     },
     "output_type": "display_data"
    }
   ],
   "source": [
    "# make a dictionary to count how many times each tag was viewed\n",
    "tag_view_count = dict()\n",
    "\n",
    "for index, row in questions.iterrows():\n",
    "    for tag in row['Tags']:\n",
    "        if tag in tag_view_count:\n",
    "            tag_view_count[tag] += row['ViewCount']\n",
    "        else:\n",
    "            tag_view_count[tag] = row['ViewCount']\n",
    "# make tag_view_count into dataframe          \n",
    "tag_view_count = pd.DataFrame.from_dict(tag_view_count, orient=\"index\")\n",
    "tag_view_count.rename(columns={0: \"ViewCount\"}, inplace=True)\n",
    "# sort by \"ViewCount\" and pick the top 20 results\n",
    "most_viewed = tag_view_count.sort_values(by=\"ViewCount\").tail(20)\n",
    "# Create bar plot\n",
    "most_viewed.plot(kind=\"barh\", figsize=(16,8))"
   ]
  },
  {
   "cell_type": "markdown",
   "metadata": {},
   "source": [
    "python, machine learning, keras, deep-learning, pandas are the top 5 most viewed topics on DSSE.\n",
    "\n",
    "This seem to reinforce our hypothesis from above. We can further strenthen our claim by investigate into the relationships among tags especially those top tags."
   ]
  },
  {
   "cell_type": "markdown",
   "metadata": {},
   "source": [
    "## Relations Among Tags"
   ]
  },
  {
   "cell_type": "markdown",
   "metadata": {},
   "source": [
    "One way of trying to gauge how pairs of tags are related to each other, is to count how many times each pair appears together."
   ]
  },
  {
   "cell_type": "markdown",
   "metadata": {},
   "source": [
    "We'll begin by creating a list of all tags."
   ]
  },
  {
   "cell_type": "code",
   "execution_count": 19,
   "metadata": {},
   "outputs": [],
   "source": [
    "all_tags = list(tag_count.index)"
   ]
  },
  {
   "cell_type": "markdown",
   "metadata": {},
   "source": [
    "We'll now create a dataframe where each row and column will represent a tag."
   ]
  },
  {
   "cell_type": "code",
   "execution_count": 20,
   "metadata": {},
   "outputs": [
    {
     "data": {
      "text/html": [
       "<div>\n",
       "<style scoped>\n",
       "    .dataframe tbody tr th:only-of-type {\n",
       "        vertical-align: middle;\n",
       "    }\n",
       "\n",
       "    .dataframe tbody tr th {\n",
       "        vertical-align: top;\n",
       "    }\n",
       "\n",
       "    .dataframe thead th {\n",
       "        text-align: right;\n",
       "    }\n",
       "</style>\n",
       "<table border=\"1\" class=\"dataframe\">\n",
       "  <thead>\n",
       "    <tr style=\"text-align: right;\">\n",
       "      <th></th>\n",
       "      <th>machine-learning</th>\n",
       "      <th>time-series</th>\n",
       "      <th>forecasting</th>\n",
       "      <th>ai</th>\n",
       "    </tr>\n",
       "  </thead>\n",
       "  <tbody>\n",
       "    <tr>\n",
       "      <th>machine-learning</th>\n",
       "      <td>NaN</td>\n",
       "      <td>NaN</td>\n",
       "      <td>NaN</td>\n",
       "      <td>NaN</td>\n",
       "    </tr>\n",
       "    <tr>\n",
       "      <th>time-series</th>\n",
       "      <td>NaN</td>\n",
       "      <td>NaN</td>\n",
       "      <td>NaN</td>\n",
       "      <td>NaN</td>\n",
       "    </tr>\n",
       "    <tr>\n",
       "      <th>forecasting</th>\n",
       "      <td>NaN</td>\n",
       "      <td>NaN</td>\n",
       "      <td>NaN</td>\n",
       "      <td>NaN</td>\n",
       "    </tr>\n",
       "    <tr>\n",
       "      <th>ai</th>\n",
       "      <td>NaN</td>\n",
       "      <td>NaN</td>\n",
       "      <td>NaN</td>\n",
       "      <td>NaN</td>\n",
       "    </tr>\n",
       "  </tbody>\n",
       "</table>\n",
       "</div>"
      ],
      "text/plain": [
       "                 machine-learning time-series forecasting   ai\n",
       "machine-learning              NaN         NaN         NaN  NaN\n",
       "time-series                   NaN         NaN         NaN  NaN\n",
       "forecasting                   NaN         NaN         NaN  NaN\n",
       "ai                            NaN         NaN         NaN  NaN"
      ]
     },
     "execution_count": 20,
     "metadata": {},
     "output_type": "execute_result"
    }
   ],
   "source": [
    "associations = pd.DataFrame(index=all_tags, columns=all_tags)\n",
    "associations.iloc[0:4,0:4]"
   ]
  },
  {
   "cell_type": "markdown",
   "metadata": {},
   "source": [
    "We will now fill this dataframe with zeroes and then, for each lists of tags in questions[\"Tags\"], we will increment the intersecting tags by one. The end result will be a dataframe that for each pair of tags, it tells us how many times they were used together."
   ]
  },
  {
   "cell_type": "code",
   "execution_count": 21,
   "metadata": {},
   "outputs": [
    {
     "data": {
      "text/html": [
       "<div>\n",
       "<style scoped>\n",
       "    .dataframe tbody tr th:only-of-type {\n",
       "        vertical-align: middle;\n",
       "    }\n",
       "\n",
       "    .dataframe tbody tr th {\n",
       "        vertical-align: top;\n",
       "    }\n",
       "\n",
       "    .dataframe thead th {\n",
       "        text-align: right;\n",
       "    }\n",
       "</style>\n",
       "<table border=\"1\" class=\"dataframe\">\n",
       "  <thead>\n",
       "    <tr style=\"text-align: right;\">\n",
       "      <th></th>\n",
       "      <th>feature-selection</th>\n",
       "      <th>predictive-modeling</th>\n",
       "      <th>r</th>\n",
       "      <th>clustering</th>\n",
       "      <th>statistics</th>\n",
       "      <th>pandas</th>\n",
       "      <th>lstm</th>\n",
       "      <th>dataset</th>\n",
       "      <th>cnn</th>\n",
       "      <th>regression</th>\n",
       "      <th>time-series</th>\n",
       "      <th>scikit-learn</th>\n",
       "      <th>tensorflow</th>\n",
       "      <th>nlp</th>\n",
       "      <th>classification</th>\n",
       "      <th>keras</th>\n",
       "      <th>neural-network</th>\n",
       "      <th>deep-learning</th>\n",
       "      <th>python</th>\n",
       "      <th>machine-learning</th>\n",
       "    </tr>\n",
       "  </thead>\n",
       "  <tbody>\n",
       "    <tr>\n",
       "      <th>feature-selection</th>\n",
       "      <td>185</td>\n",
       "      <td>6</td>\n",
       "      <td>5</td>\n",
       "      <td>6</td>\n",
       "      <td>7</td>\n",
       "      <td>6</td>\n",
       "      <td>3</td>\n",
       "      <td>5</td>\n",
       "      <td>1</td>\n",
       "      <td>8</td>\n",
       "      <td>2</td>\n",
       "      <td>21</td>\n",
       "      <td>0</td>\n",
       "      <td>5</td>\n",
       "      <td>9</td>\n",
       "      <td>2</td>\n",
       "      <td>15</td>\n",
       "      <td>14</td>\n",
       "      <td>28</td>\n",
       "      <td>71</td>\n",
       "    </tr>\n",
       "    <tr>\n",
       "      <th>predictive-modeling</th>\n",
       "      <td>6</td>\n",
       "      <td>189</td>\n",
       "      <td>5</td>\n",
       "      <td>7</td>\n",
       "      <td>18</td>\n",
       "      <td>3</td>\n",
       "      <td>5</td>\n",
       "      <td>9</td>\n",
       "      <td>1</td>\n",
       "      <td>23</td>\n",
       "      <td>22</td>\n",
       "      <td>7</td>\n",
       "      <td>3</td>\n",
       "      <td>2</td>\n",
       "      <td>27</td>\n",
       "      <td>2</td>\n",
       "      <td>10</td>\n",
       "      <td>14</td>\n",
       "      <td>36</td>\n",
       "      <td>86</td>\n",
       "    </tr>\n",
       "    <tr>\n",
       "      <th>r</th>\n",
       "      <td>5</td>\n",
       "      <td>5</td>\n",
       "      <td>202</td>\n",
       "      <td>11</td>\n",
       "      <td>13</td>\n",
       "      <td>1</td>\n",
       "      <td>2</td>\n",
       "      <td>10</td>\n",
       "      <td>0</td>\n",
       "      <td>15</td>\n",
       "      <td>10</td>\n",
       "      <td>0</td>\n",
       "      <td>2</td>\n",
       "      <td>6</td>\n",
       "      <td>11</td>\n",
       "      <td>6</td>\n",
       "      <td>11</td>\n",
       "      <td>2</td>\n",
       "      <td>24</td>\n",
       "      <td>50</td>\n",
       "    </tr>\n",
       "    <tr>\n",
       "      <th>clustering</th>\n",
       "      <td>6</td>\n",
       "      <td>7</td>\n",
       "      <td>11</td>\n",
       "      <td>221</td>\n",
       "      <td>3</td>\n",
       "      <td>2</td>\n",
       "      <td>0</td>\n",
       "      <td>5</td>\n",
       "      <td>0</td>\n",
       "      <td>4</td>\n",
       "      <td>8</td>\n",
       "      <td>18</td>\n",
       "      <td>3</td>\n",
       "      <td>11</td>\n",
       "      <td>19</td>\n",
       "      <td>0</td>\n",
       "      <td>2</td>\n",
       "      <td>4</td>\n",
       "      <td>46</td>\n",
       "      <td>51</td>\n",
       "    </tr>\n",
       "    <tr>\n",
       "      <th>statistics</th>\n",
       "      <td>7</td>\n",
       "      <td>18</td>\n",
       "      <td>13</td>\n",
       "      <td>3</td>\n",
       "      <td>231</td>\n",
       "      <td>3</td>\n",
       "      <td>2</td>\n",
       "      <td>14</td>\n",
       "      <td>0</td>\n",
       "      <td>18</td>\n",
       "      <td>15</td>\n",
       "      <td>6</td>\n",
       "      <td>3</td>\n",
       "      <td>6</td>\n",
       "      <td>15</td>\n",
       "      <td>1</td>\n",
       "      <td>8</td>\n",
       "      <td>17</td>\n",
       "      <td>28</td>\n",
       "      <td>88</td>\n",
       "    </tr>\n",
       "    <tr>\n",
       "      <th>pandas</th>\n",
       "      <td>6</td>\n",
       "      <td>3</td>\n",
       "      <td>1</td>\n",
       "      <td>2</td>\n",
       "      <td>3</td>\n",
       "      <td>251</td>\n",
       "      <td>1</td>\n",
       "      <td>20</td>\n",
       "      <td>0</td>\n",
       "      <td>3</td>\n",
       "      <td>11</td>\n",
       "      <td>26</td>\n",
       "      <td>0</td>\n",
       "      <td>8</td>\n",
       "      <td>2</td>\n",
       "      <td>3</td>\n",
       "      <td>2</td>\n",
       "      <td>0</td>\n",
       "      <td>154</td>\n",
       "      <td>23</td>\n",
       "    </tr>\n",
       "    <tr>\n",
       "      <th>lstm</th>\n",
       "      <td>3</td>\n",
       "      <td>5</td>\n",
       "      <td>2</td>\n",
       "      <td>0</td>\n",
       "      <td>2</td>\n",
       "      <td>1</td>\n",
       "      <td>263</td>\n",
       "      <td>2</td>\n",
       "      <td>13</td>\n",
       "      <td>7</td>\n",
       "      <td>66</td>\n",
       "      <td>0</td>\n",
       "      <td>34</td>\n",
       "      <td>23</td>\n",
       "      <td>7</td>\n",
       "      <td>80</td>\n",
       "      <td>48</td>\n",
       "      <td>76</td>\n",
       "      <td>35</td>\n",
       "      <td>62</td>\n",
       "    </tr>\n",
       "    <tr>\n",
       "      <th>dataset</th>\n",
       "      <td>5</td>\n",
       "      <td>9</td>\n",
       "      <td>10</td>\n",
       "      <td>5</td>\n",
       "      <td>14</td>\n",
       "      <td>20</td>\n",
       "      <td>2</td>\n",
       "      <td>266</td>\n",
       "      <td>7</td>\n",
       "      <td>12</td>\n",
       "      <td>16</td>\n",
       "      <td>9</td>\n",
       "      <td>14</td>\n",
       "      <td>15</td>\n",
       "      <td>21</td>\n",
       "      <td>10</td>\n",
       "      <td>16</td>\n",
       "      <td>27</td>\n",
       "      <td>34</td>\n",
       "      <td>79</td>\n",
       "    </tr>\n",
       "    <tr>\n",
       "      <th>cnn</th>\n",
       "      <td>1</td>\n",
       "      <td>1</td>\n",
       "      <td>0</td>\n",
       "      <td>0</td>\n",
       "      <td>0</td>\n",
       "      <td>0</td>\n",
       "      <td>13</td>\n",
       "      <td>7</td>\n",
       "      <td>309</td>\n",
       "      <td>4</td>\n",
       "      <td>10</td>\n",
       "      <td>3</td>\n",
       "      <td>50</td>\n",
       "      <td>4</td>\n",
       "      <td>18</td>\n",
       "      <td>77</td>\n",
       "      <td>73</td>\n",
       "      <td>117</td>\n",
       "      <td>36</td>\n",
       "      <td>72</td>\n",
       "    </tr>\n",
       "    <tr>\n",
       "      <th>regression</th>\n",
       "      <td>8</td>\n",
       "      <td>23</td>\n",
       "      <td>15</td>\n",
       "      <td>4</td>\n",
       "      <td>18</td>\n",
       "      <td>3</td>\n",
       "      <td>7</td>\n",
       "      <td>12</td>\n",
       "      <td>4</td>\n",
       "      <td>324</td>\n",
       "      <td>27</td>\n",
       "      <td>37</td>\n",
       "      <td>7</td>\n",
       "      <td>4</td>\n",
       "      <td>35</td>\n",
       "      <td>18</td>\n",
       "      <td>26</td>\n",
       "      <td>17</td>\n",
       "      <td>57</td>\n",
       "      <td>110</td>\n",
       "    </tr>\n",
       "    <tr>\n",
       "      <th>time-series</th>\n",
       "      <td>2</td>\n",
       "      <td>22</td>\n",
       "      <td>10</td>\n",
       "      <td>8</td>\n",
       "      <td>15</td>\n",
       "      <td>11</td>\n",
       "      <td>66</td>\n",
       "      <td>16</td>\n",
       "      <td>10</td>\n",
       "      <td>27</td>\n",
       "      <td>327</td>\n",
       "      <td>11</td>\n",
       "      <td>14</td>\n",
       "      <td>1</td>\n",
       "      <td>26</td>\n",
       "      <td>29</td>\n",
       "      <td>26</td>\n",
       "      <td>41</td>\n",
       "      <td>49</td>\n",
       "      <td>95</td>\n",
       "    </tr>\n",
       "    <tr>\n",
       "      <th>scikit-learn</th>\n",
       "      <td>21</td>\n",
       "      <td>7</td>\n",
       "      <td>0</td>\n",
       "      <td>18</td>\n",
       "      <td>6</td>\n",
       "      <td>26</td>\n",
       "      <td>0</td>\n",
       "      <td>9</td>\n",
       "      <td>3</td>\n",
       "      <td>37</td>\n",
       "      <td>11</td>\n",
       "      <td>463</td>\n",
       "      <td>4</td>\n",
       "      <td>18</td>\n",
       "      <td>48</td>\n",
       "      <td>19</td>\n",
       "      <td>10</td>\n",
       "      <td>5</td>\n",
       "      <td>179</td>\n",
       "      <td>158</td>\n",
       "    </tr>\n",
       "    <tr>\n",
       "      <th>tensorflow</th>\n",
       "      <td>0</td>\n",
       "      <td>3</td>\n",
       "      <td>2</td>\n",
       "      <td>3</td>\n",
       "      <td>3</td>\n",
       "      <td>0</td>\n",
       "      <td>34</td>\n",
       "      <td>14</td>\n",
       "      <td>50</td>\n",
       "      <td>7</td>\n",
       "      <td>14</td>\n",
       "      <td>4</td>\n",
       "      <td>508</td>\n",
       "      <td>20</td>\n",
       "      <td>7</td>\n",
       "      <td>256</td>\n",
       "      <td>87</td>\n",
       "      <td>140</td>\n",
       "      <td>116</td>\n",
       "      <td>108</td>\n",
       "    </tr>\n",
       "    <tr>\n",
       "      <th>nlp</th>\n",
       "      <td>5</td>\n",
       "      <td>2</td>\n",
       "      <td>6</td>\n",
       "      <td>11</td>\n",
       "      <td>6</td>\n",
       "      <td>8</td>\n",
       "      <td>23</td>\n",
       "      <td>15</td>\n",
       "      <td>4</td>\n",
       "      <td>4</td>\n",
       "      <td>1</td>\n",
       "      <td>18</td>\n",
       "      <td>20</td>\n",
       "      <td>533</td>\n",
       "      <td>30</td>\n",
       "      <td>17</td>\n",
       "      <td>34</td>\n",
       "      <td>89</td>\n",
       "      <td>80</td>\n",
       "      <td>139</td>\n",
       "    </tr>\n",
       "    <tr>\n",
       "      <th>classification</th>\n",
       "      <td>9</td>\n",
       "      <td>27</td>\n",
       "      <td>11</td>\n",
       "      <td>19</td>\n",
       "      <td>15</td>\n",
       "      <td>2</td>\n",
       "      <td>7</td>\n",
       "      <td>21</td>\n",
       "      <td>18</td>\n",
       "      <td>35</td>\n",
       "      <td>26</td>\n",
       "      <td>48</td>\n",
       "      <td>7</td>\n",
       "      <td>30</td>\n",
       "      <td>586</td>\n",
       "      <td>23</td>\n",
       "      <td>57</td>\n",
       "      <td>58</td>\n",
       "      <td>89</td>\n",
       "      <td>226</td>\n",
       "    </tr>\n",
       "    <tr>\n",
       "      <th>keras</th>\n",
       "      <td>2</td>\n",
       "      <td>2</td>\n",
       "      <td>6</td>\n",
       "      <td>0</td>\n",
       "      <td>1</td>\n",
       "      <td>3</td>\n",
       "      <td>80</td>\n",
       "      <td>10</td>\n",
       "      <td>77</td>\n",
       "      <td>18</td>\n",
       "      <td>29</td>\n",
       "      <td>19</td>\n",
       "      <td>256</td>\n",
       "      <td>17</td>\n",
       "      <td>23</td>\n",
       "      <td>601</td>\n",
       "      <td>121</td>\n",
       "      <td>175</td>\n",
       "      <td>155</td>\n",
       "      <td>121</td>\n",
       "    </tr>\n",
       "    <tr>\n",
       "      <th>neural-network</th>\n",
       "      <td>15</td>\n",
       "      <td>10</td>\n",
       "      <td>11</td>\n",
       "      <td>2</td>\n",
       "      <td>8</td>\n",
       "      <td>2</td>\n",
       "      <td>48</td>\n",
       "      <td>16</td>\n",
       "      <td>73</td>\n",
       "      <td>26</td>\n",
       "      <td>26</td>\n",
       "      <td>10</td>\n",
       "      <td>87</td>\n",
       "      <td>34</td>\n",
       "      <td>57</td>\n",
       "      <td>121</td>\n",
       "      <td>763</td>\n",
       "      <td>248</td>\n",
       "      <td>75</td>\n",
       "      <td>259</td>\n",
       "    </tr>\n",
       "    <tr>\n",
       "      <th>deep-learning</th>\n",
       "      <td>14</td>\n",
       "      <td>14</td>\n",
       "      <td>2</td>\n",
       "      <td>4</td>\n",
       "      <td>17</td>\n",
       "      <td>0</td>\n",
       "      <td>76</td>\n",
       "      <td>27</td>\n",
       "      <td>117</td>\n",
       "      <td>17</td>\n",
       "      <td>41</td>\n",
       "      <td>5</td>\n",
       "      <td>140</td>\n",
       "      <td>89</td>\n",
       "      <td>58</td>\n",
       "      <td>175</td>\n",
       "      <td>248</td>\n",
       "      <td>949</td>\n",
       "      <td>114</td>\n",
       "      <td>367</td>\n",
       "    </tr>\n",
       "    <tr>\n",
       "      <th>python</th>\n",
       "      <td>28</td>\n",
       "      <td>36</td>\n",
       "      <td>24</td>\n",
       "      <td>46</td>\n",
       "      <td>28</td>\n",
       "      <td>154</td>\n",
       "      <td>35</td>\n",
       "      <td>34</td>\n",
       "      <td>36</td>\n",
       "      <td>57</td>\n",
       "      <td>49</td>\n",
       "      <td>179</td>\n",
       "      <td>116</td>\n",
       "      <td>80</td>\n",
       "      <td>89</td>\n",
       "      <td>155</td>\n",
       "      <td>75</td>\n",
       "      <td>114</td>\n",
       "      <td>1270</td>\n",
       "      <td>358</td>\n",
       "    </tr>\n",
       "    <tr>\n",
       "      <th>machine-learning</th>\n",
       "      <td>71</td>\n",
       "      <td>86</td>\n",
       "      <td>50</td>\n",
       "      <td>51</td>\n",
       "      <td>88</td>\n",
       "      <td>23</td>\n",
       "      <td>62</td>\n",
       "      <td>79</td>\n",
       "      <td>72</td>\n",
       "      <td>110</td>\n",
       "      <td>95</td>\n",
       "      <td>158</td>\n",
       "      <td>108</td>\n",
       "      <td>139</td>\n",
       "      <td>226</td>\n",
       "      <td>121</td>\n",
       "      <td>259</td>\n",
       "      <td>367</td>\n",
       "      <td>358</td>\n",
       "      <td>2005</td>\n",
       "    </tr>\n",
       "  </tbody>\n",
       "</table>\n",
       "</div>"
      ],
      "text/plain": [
       "                     feature-selection  predictive-modeling    r  clustering  \\\n",
       "feature-selection                  185                    6    5           6   \n",
       "predictive-modeling                  6                  189    5           7   \n",
       "r                                    5                    5  202          11   \n",
       "clustering                           6                    7   11         221   \n",
       "statistics                           7                   18   13           3   \n",
       "pandas                               6                    3    1           2   \n",
       "lstm                                 3                    5    2           0   \n",
       "dataset                              5                    9   10           5   \n",
       "cnn                                  1                    1    0           0   \n",
       "regression                           8                   23   15           4   \n",
       "time-series                          2                   22   10           8   \n",
       "scikit-learn                        21                    7    0          18   \n",
       "tensorflow                           0                    3    2           3   \n",
       "nlp                                  5                    2    6          11   \n",
       "classification                       9                   27   11          19   \n",
       "keras                                2                    2    6           0   \n",
       "neural-network                      15                   10   11           2   \n",
       "deep-learning                       14                   14    2           4   \n",
       "python                              28                   36   24          46   \n",
       "machine-learning                    71                   86   50          51   \n",
       "\n",
       "                     statistics  pandas  lstm  dataset  cnn  regression  \\\n",
       "feature-selection             7       6     3        5    1           8   \n",
       "predictive-modeling          18       3     5        9    1          23   \n",
       "r                            13       1     2       10    0          15   \n",
       "clustering                    3       2     0        5    0           4   \n",
       "statistics                  231       3     2       14    0          18   \n",
       "pandas                        3     251     1       20    0           3   \n",
       "lstm                          2       1   263        2   13           7   \n",
       "dataset                      14      20     2      266    7          12   \n",
       "cnn                           0       0    13        7  309           4   \n",
       "regression                   18       3     7       12    4         324   \n",
       "time-series                  15      11    66       16   10          27   \n",
       "scikit-learn                  6      26     0        9    3          37   \n",
       "tensorflow                    3       0    34       14   50           7   \n",
       "nlp                           6       8    23       15    4           4   \n",
       "classification               15       2     7       21   18          35   \n",
       "keras                         1       3    80       10   77          18   \n",
       "neural-network                8       2    48       16   73          26   \n",
       "deep-learning                17       0    76       27  117          17   \n",
       "python                       28     154    35       34   36          57   \n",
       "machine-learning             88      23    62       79   72         110   \n",
       "\n",
       "                     time-series  scikit-learn  tensorflow  nlp  \\\n",
       "feature-selection              2            21           0    5   \n",
       "predictive-modeling           22             7           3    2   \n",
       "r                             10             0           2    6   \n",
       "clustering                     8            18           3   11   \n",
       "statistics                    15             6           3    6   \n",
       "pandas                        11            26           0    8   \n",
       "lstm                          66             0          34   23   \n",
       "dataset                       16             9          14   15   \n",
       "cnn                           10             3          50    4   \n",
       "regression                    27            37           7    4   \n",
       "time-series                  327            11          14    1   \n",
       "scikit-learn                  11           463           4   18   \n",
       "tensorflow                    14             4         508   20   \n",
       "nlp                            1            18          20  533   \n",
       "classification                26            48           7   30   \n",
       "keras                         29            19         256   17   \n",
       "neural-network                26            10          87   34   \n",
       "deep-learning                 41             5         140   89   \n",
       "python                        49           179         116   80   \n",
       "machine-learning              95           158         108  139   \n",
       "\n",
       "                     classification  keras  neural-network  deep-learning  \\\n",
       "feature-selection                 9      2              15             14   \n",
       "predictive-modeling              27      2              10             14   \n",
       "r                                11      6              11              2   \n",
       "clustering                       19      0               2              4   \n",
       "statistics                       15      1               8             17   \n",
       "pandas                            2      3               2              0   \n",
       "lstm                              7     80              48             76   \n",
       "dataset                          21     10              16             27   \n",
       "cnn                              18     77              73            117   \n",
       "regression                       35     18              26             17   \n",
       "time-series                      26     29              26             41   \n",
       "scikit-learn                     48     19              10              5   \n",
       "tensorflow                        7    256              87            140   \n",
       "nlp                              30     17              34             89   \n",
       "classification                  586     23              57             58   \n",
       "keras                            23    601             121            175   \n",
       "neural-network                   57    121             763            248   \n",
       "deep-learning                    58    175             248            949   \n",
       "python                           89    155              75            114   \n",
       "machine-learning                226    121             259            367   \n",
       "\n",
       "                     python  machine-learning  \n",
       "feature-selection        28                71  \n",
       "predictive-modeling      36                86  \n",
       "r                        24                50  \n",
       "clustering               46                51  \n",
       "statistics               28                88  \n",
       "pandas                  154                23  \n",
       "lstm                     35                62  \n",
       "dataset                  34                79  \n",
       "cnn                      36                72  \n",
       "regression               57               110  \n",
       "time-series              49                95  \n",
       "scikit-learn            179               158  \n",
       "tensorflow              116               108  \n",
       "nlp                      80               139  \n",
       "classification           89               226  \n",
       "keras                   155               121  \n",
       "neural-network           75               259  \n",
       "deep-learning           114               367  \n",
       "python                 1270               358  \n",
       "machine-learning        358              2005  "
      ]
     },
     "execution_count": 21,
     "metadata": {},
     "output_type": "execute_result"
    }
   ],
   "source": [
    "associations.fillna(0, inplace=True)\n",
    "\n",
    "for tags in questions[\"Tags\"]:\n",
    "    associations.loc[tags, tags] += 1\n",
    "    \n",
    "relations_most_used = associations.loc[most_used.index, most_used.index]\n",
    "relations_most_used"
   ]
  },
  {
   "cell_type": "markdown",
   "metadata": {},
   "source": [
    "The dataframe is quite big and hard to read. Let's create a heatmap to help us analyze the data. But first, we will remove the main diagonal line (the longest diagonal line of the dataframe) so the colors won't be too skewed."
   ]
  },
  {
   "cell_type": "code",
   "execution_count": 22,
   "metadata": {},
   "outputs": [
    {
     "name": "stderr",
     "output_type": "stream",
     "text": [
      "<ipython-input-22-0820332112cf>:3: FutureWarning: The pandas.np module is deprecated and will be removed from pandas in a future version. Import numpy directly instead\n",
      "  relations_most_used.iloc[i,i] = pd.np.NaN\n"
     ]
    }
   ],
   "source": [
    "# remove the diagonal line \n",
    "for i in range(relations_most_used.shape[0]):\n",
    "    relations_most_used.iloc[i,i] = pd.np.NaN"
   ]
  },
  {
   "cell_type": "code",
   "execution_count": 23,
   "metadata": {},
   "outputs": [
    {
     "data": {
      "text/plain": [
       "<AxesSubplot:>"
      ]
     },
     "execution_count": 23,
     "metadata": {},
     "output_type": "execute_result"
    },
    {
     "data": {
      "image/png": "[encoded data removed]",
      "text/plain": [
       "<Figure size 864x576 with 2 Axes>"
      ]
     },
     "metadata": {
      "needs_background": "light"
     },
     "output_type": "display_data"
    }
   ],
   "source": [
    "# Plot the heatmap\n",
    "plt.figure(figsize=(12,8))\n",
    "sns.heatmap(relations_most_used, cmap=\"Greens\")"
   ]
  },
  {
   "cell_type": "markdown",
   "metadata": {},
   "source": [
    "From the top 10 tags of each, here's a list of the tags in common: python, machine-learning, deep-learning, neural-network, keras, tensorflow, classification, scikit-learn.\n",
    "\n",
    "The most used tags also seem to have the strongest relationships, as given by the dark concentration in the bottom right corner. However, this could simply be because each of these tags is used a lot, and so end up being used together a lot without possibly even having any strong relation between them.\n",
    "\n",
    "Fortunately, it is well known that Keras, scikit-learn, TensorFlow are all libraries available in python that allow their users to employ deep learning(a type of neural network) and classification is a class of unsupervised learning problem that can solve by deep-learning. So the top tags are indeed relate to one another with one central machine learning theme: deep learning, and our analysis further confirm this."
   ]
  },
  {
   "cell_type": "markdown",
   "metadata": {},
   "source": [
    "## Tracking the 'Deep-Learning' trend"
   ]
  },
  {
   "cell_type": "markdown",
   "metadata": {},
   "source": [
    "It seem like Deep Learning contents is pretty popular as of 2020. But before we officially make our recommendation, it would be nice to solidify our findings with additional proof. Ideally, the content we decide to create will be the most useful for as long as possible. We should check to make sure that the interest in deep learning isn't slowing down."
   ]
  },
  {
   "cell_type": "markdown",
   "metadata": {},
   "source": [
    "The file all_questions.csv holds the result of the query below — this query fetches all of the questions ever asked on DSSE, their dates and tags.\n",
    "\n",
    "SELECT Id, CreationDate, Tags\n",
    "\n",
    "FROM posts\n",
    "\n",
    "WHERE PostTypeId = 1;\n",
    "\n",
    "We save the data in \"all_questions.csv\"."
   ]
  },
  {
   "cell_type": "markdown",
   "metadata": {},
   "source": [
    "Let's read in the file into a dataframe called all_q. We'll parse the dates at read-time."
   ]
  },
  {
   "cell_type": "code",
   "execution_count": 27,
   "metadata": {},
   "outputs": [],
   "source": [
    "all_q = pd.read_csv(\"all_questions.csv\", parse_dates=[\"CreationDate\"])"
   ]
  },
  {
   "cell_type": "code",
   "execution_count": 28,
   "metadata": {},
   "outputs": [
    {
     "name": "stderr",
     "output_type": "stream",
     "text": [
      "<ipython-input-28-43a7765d980b>:2: FutureWarning: The default value of regex will change from True to False in a future version.\n",
      "  all_q[\"Tags\"] = all_q[\"Tags\"].str.replace(\"^<|>$\", \"\").str.split(\"><\")\n"
     ]
    }
   ],
   "source": [
    "# clean the 'Tags' column\n",
    "all_q[\"Tags\"] = all_q[\"Tags\"].str.replace(\"^<|>$\", \"\").str.split(\"><\")"
   ]
  },
  {
   "cell_type": "markdown",
   "metadata": {},
   "source": [
    "We can classify a deep learning tag is a tag that belongs to the list [\"lstm\", \"cnn\", \"scikit-learn\", \"tensorflow\", \"keras\", \"neural-network\", \"deep-learning\"].\n",
    "\n",
    "We'll now create a function that assigns 1 to deep learning questions and 0 otherwise"
   ]
  },
  {
   "cell_type": "code",
   "execution_count": 29,
   "metadata": {},
   "outputs": [],
   "source": [
    "def class_deep_learning(tags):\n",
    "    for tag in tags:\n",
    "        if tag in [\"lstm\", \"cnn\", \"scikit-learn\", \"tensorflow\",\n",
    "                   \"keras\", \"neural-network\", \"deep-learning\"]:\n",
    "            return 1\n",
    "    return 0"
   ]
  },
  {
   "cell_type": "code",
   "execution_count": 30,
   "metadata": {},
   "outputs": [
    {
     "data": {
      "text/html": [
       "<div>\n",
       "<style scoped>\n",
       "    .dataframe tbody tr th:only-of-type {\n",
       "        vertical-align: middle;\n",
       "    }\n",
       "\n",
       "    .dataframe tbody tr th {\n",
       "        vertical-align: top;\n",
       "    }\n",
       "\n",
       "    .dataframe thead th {\n",
       "        text-align: right;\n",
       "    }\n",
       "</style>\n",
       "<table border=\"1\" class=\"dataframe\">\n",
       "  <thead>\n",
       "    <tr style=\"text-align: right;\">\n",
       "      <th></th>\n",
       "      <th>Id</th>\n",
       "      <th>CreationDate</th>\n",
       "      <th>Tags</th>\n",
       "      <th>DeepLearning</th>\n",
       "    </tr>\n",
       "  </thead>\n",
       "  <tbody>\n",
       "    <tr>\n",
       "      <th>0</th>\n",
       "      <td>28692</td>\n",
       "      <td>2018-03-06 08:55:20</td>\n",
       "      <td>[machine-learning, machine-learning-model]</td>\n",
       "      <td>0</td>\n",
       "    </tr>\n",
       "    <tr>\n",
       "      <th>1</th>\n",
       "      <td>28705</td>\n",
       "      <td>2018-03-06 13:29:06</td>\n",
       "      <td>[python, neural-network, keras, convolution]</td>\n",
       "      <td>1</td>\n",
       "    </tr>\n",
       "    <tr>\n",
       "      <th>2</th>\n",
       "      <td>28711</td>\n",
       "      <td>2018-03-06 15:28:42</td>\n",
       "      <td>[python, clustering, lda]</td>\n",
       "      <td>0</td>\n",
       "    </tr>\n",
       "    <tr>\n",
       "      <th>3</th>\n",
       "      <td>28712</td>\n",
       "      <td>2018-03-06 15:35:47</td>\n",
       "      <td>[machine-learning, neural-network, deep-learni...</td>\n",
       "      <td>1</td>\n",
       "    </tr>\n",
       "    <tr>\n",
       "      <th>4</th>\n",
       "      <td>28714</td>\n",
       "      <td>2018-03-06 16:06:27</td>\n",
       "      <td>[deep-learning, nlp, keras, machine-translation]</td>\n",
       "      <td>1</td>\n",
       "    </tr>\n",
       "  </tbody>\n",
       "</table>\n",
       "</div>"
      ],
      "text/plain": [
       "      Id        CreationDate  \\\n",
       "0  28692 2018-03-06 08:55:20   \n",
       "1  28705 2018-03-06 13:29:06   \n",
       "2  28711 2018-03-06 15:28:42   \n",
       "3  28712 2018-03-06 15:35:47   \n",
       "4  28714 2018-03-06 16:06:27   \n",
       "\n",
       "                                                Tags  DeepLearning  \n",
       "0         [machine-learning, machine-learning-model]             0  \n",
       "1       [python, neural-network, keras, convolution]             1  \n",
       "2                          [python, clustering, lda]             0  \n",
       "3  [machine-learning, neural-network, deep-learni...             1  \n",
       "4   [deep-learning, nlp, keras, machine-translation]             1  "
      ]
     },
     "execution_count": 30,
     "metadata": {},
     "output_type": "execute_result"
    }
   ],
   "source": [
    "# Apply our function to the Tags column to create a Deep-learning column that\n",
    "# classify deep-learning tags\n",
    "all_q[\"DeepLearning\"] = all_q[\"Tags\"].apply(class_deep_learning)\n",
    "all_q.head()"
   ]
  },
  {
   "cell_type": "markdown",
   "metadata": {},
   "source": [
    "Since the data science techonology doesn't progress too fast, it is safe to track the trend of deep-learning quaterly."
   ]
  },
  {
   "cell_type": "markdown",
   "metadata": {},
   "source": [
    "Let's create a column that identifies the quarter in which a question was asked."
   ]
  },
  {
   "cell_type": "code",
   "execution_count": 31,
   "metadata": {},
   "outputs": [],
   "source": [
    "def fetch_quarter(datetime):\n",
    "    year = str(datetime.year)\n",
    "    quarter = str(((datetime.month-1) // 3) + 1)\n",
    "    return \"{y}Q{q}\".format(y=year, q=quarter)\n",
    "\n",
    "all_q[\"Quarter\"] = all_q[\"CreationDate\"].apply(fetch_quarter)"
   ]
  },
  {
   "cell_type": "code",
   "execution_count": 32,
   "metadata": {},
   "outputs": [
    {
     "data": {
      "text/html": [
       "<div>\n",
       "<style scoped>\n",
       "    .dataframe tbody tr th:only-of-type {\n",
       "        vertical-align: middle;\n",
       "    }\n",
       "\n",
       "    .dataframe tbody tr th {\n",
       "        vertical-align: top;\n",
       "    }\n",
       "\n",
       "    .dataframe thead th {\n",
       "        text-align: right;\n",
       "    }\n",
       "</style>\n",
       "<table border=\"1\" class=\"dataframe\">\n",
       "  <thead>\n",
       "    <tr style=\"text-align: right;\">\n",
       "      <th></th>\n",
       "      <th>Id</th>\n",
       "      <th>CreationDate</th>\n",
       "      <th>Tags</th>\n",
       "      <th>DeepLearning</th>\n",
       "      <th>Quarter</th>\n",
       "    </tr>\n",
       "  </thead>\n",
       "  <tbody>\n",
       "    <tr>\n",
       "      <th>0</th>\n",
       "      <td>28692</td>\n",
       "      <td>2018-03-06 08:55:20</td>\n",
       "      <td>[machine-learning, machine-learning-model]</td>\n",
       "      <td>0</td>\n",
       "      <td>2018Q1</td>\n",
       "    </tr>\n",
       "    <tr>\n",
       "      <th>1</th>\n",
       "      <td>28705</td>\n",
       "      <td>2018-03-06 13:29:06</td>\n",
       "      <td>[python, neural-network, keras, convolution]</td>\n",
       "      <td>1</td>\n",
       "      <td>2018Q1</td>\n",
       "    </tr>\n",
       "    <tr>\n",
       "      <th>2</th>\n",
       "      <td>28711</td>\n",
       "      <td>2018-03-06 15:28:42</td>\n",
       "      <td>[python, clustering, lda]</td>\n",
       "      <td>0</td>\n",
       "      <td>2018Q1</td>\n",
       "    </tr>\n",
       "    <tr>\n",
       "      <th>3</th>\n",
       "      <td>28712</td>\n",
       "      <td>2018-03-06 15:35:47</td>\n",
       "      <td>[machine-learning, neural-network, deep-learni...</td>\n",
       "      <td>1</td>\n",
       "      <td>2018Q1</td>\n",
       "    </tr>\n",
       "    <tr>\n",
       "      <th>4</th>\n",
       "      <td>28714</td>\n",
       "      <td>2018-03-06 16:06:27</td>\n",
       "      <td>[deep-learning, nlp, keras, machine-translation]</td>\n",
       "      <td>1</td>\n",
       "      <td>2018Q1</td>\n",
       "    </tr>\n",
       "  </tbody>\n",
       "</table>\n",
       "</div>"
      ],
      "text/plain": [
       "      Id        CreationDate  \\\n",
       "0  28692 2018-03-06 08:55:20   \n",
       "1  28705 2018-03-06 13:29:06   \n",
       "2  28711 2018-03-06 15:28:42   \n",
       "3  28712 2018-03-06 15:35:47   \n",
       "4  28714 2018-03-06 16:06:27   \n",
       "\n",
       "                                                Tags  DeepLearning Quarter  \n",
       "0         [machine-learning, machine-learning-model]             0  2018Q1  \n",
       "1       [python, neural-network, keras, convolution]             1  2018Q1  \n",
       "2                          [python, clustering, lda]             0  2018Q1  \n",
       "3  [machine-learning, neural-network, deep-learni...             1  2018Q1  \n",
       "4   [deep-learning, nlp, keras, machine-translation]             1  2018Q1  "
      ]
     },
     "execution_count": 32,
     "metadata": {},
     "output_type": "execute_result"
    }
   ],
   "source": [
    "all_q.head()"
   ]
  },
  {
   "cell_type": "markdown",
   "metadata": {
    "collapsed": true
   },
   "source": [
    "We'll group by quarter and:\n",
    "\n",
    "* Count the number of deep learning questions.\n",
    "* Count the total number of questions.\n",
    "* Compute the ratio between the two numbers above."
   ]
  },
  {
   "cell_type": "code",
   "execution_count": 33,
   "metadata": {},
   "outputs": [
    {
     "data": {
      "text/html": [
       "<div>\n",
       "<style scoped>\n",
       "    .dataframe tbody tr th:only-of-type {\n",
       "        vertical-align: middle;\n",
       "    }\n",
       "\n",
       "    .dataframe tbody tr th {\n",
       "        vertical-align: top;\n",
       "    }\n",
       "\n",
       "    .dataframe thead th {\n",
       "        text-align: right;\n",
       "    }\n",
       "</style>\n",
       "<table border=\"1\" class=\"dataframe\">\n",
       "  <thead>\n",
       "    <tr style=\"text-align: right;\">\n",
       "      <th></th>\n",
       "      <th>Quarter</th>\n",
       "      <th>DeepLearningQuestions</th>\n",
       "      <th>TotalQuestions</th>\n",
       "      <th>DeepLearningRate</th>\n",
       "    </tr>\n",
       "  </thead>\n",
       "  <tbody>\n",
       "    <tr>\n",
       "      <th>0</th>\n",
       "      <td>2014Q2</td>\n",
       "      <td>9</td>\n",
       "      <td>157</td>\n",
       "      <td>0.057325</td>\n",
       "    </tr>\n",
       "    <tr>\n",
       "      <th>1</th>\n",
       "      <td>2014Q3</td>\n",
       "      <td>13</td>\n",
       "      <td>188</td>\n",
       "      <td>0.069149</td>\n",
       "    </tr>\n",
       "    <tr>\n",
       "      <th>2</th>\n",
       "      <td>2014Q4</td>\n",
       "      <td>21</td>\n",
       "      <td>214</td>\n",
       "      <td>0.098131</td>\n",
       "    </tr>\n",
       "    <tr>\n",
       "      <th>3</th>\n",
       "      <td>2015Q1</td>\n",
       "      <td>17</td>\n",
       "      <td>188</td>\n",
       "      <td>0.090426</td>\n",
       "    </tr>\n",
       "    <tr>\n",
       "      <th>4</th>\n",
       "      <td>2015Q2</td>\n",
       "      <td>28</td>\n",
       "      <td>284</td>\n",
       "      <td>0.098592</td>\n",
       "    </tr>\n",
       "  </tbody>\n",
       "</table>\n",
       "</div>"
      ],
      "text/plain": [
       "  Quarter  DeepLearningQuestions  TotalQuestions  DeepLearningRate\n",
       "0  2014Q2                      9             157          0.057325\n",
       "1  2014Q3                     13             188          0.069149\n",
       "2  2014Q4                     21             214          0.098131\n",
       "3  2015Q1                     17             188          0.090426\n",
       "4  2015Q2                     28             284          0.098592"
      ]
     },
     "execution_count": 33,
     "metadata": {},
     "output_type": "execute_result"
    }
   ],
   "source": [
    "quarterly = all_q.groupby('Quarter').agg({\"DeepLearning\": ['sum', 'size']})\n",
    "quarterly.columns = ['DeepLearningQuestions', 'TotalQuestions']\n",
    "quarterly[\"DeepLearningRate\"] = quarterly[\"DeepLearningQuestions\"]\\\n",
    "                                /quarterly[\"TotalQuestions\"]\n",
    "# reset the quarterly dataframe index\n",
    "quarterly.reset_index(inplace=True)\n",
    "quarterly.head()"
   ]
  },
  {
   "cell_type": "markdown",
   "metadata": {},
   "source": [
    "Let's make a plot to track the rate that deep-learning tags appear in question and the total number of questions by quarter"
   ]
  },
  {
   "cell_type": "code",
   "execution_count": 34,
   "metadata": {},
   "outputs": [
    {
     "data": {
      "image/png": "[encoded data removed]",
      "text/plain": [
       "<Figure size 1728x864 with 2 Axes>"
      ]
     },
     "metadata": {
      "needs_background": "light"
     },
     "output_type": "display_data"
    }
   ],
   "source": [
    "ax1 = quarterly.plot(x=\"Quarter\", y=\"DeepLearningRate\",\n",
    "                    kind=\"line\", linestyle=\"-\", marker=\"o\", color=\"orange\",\n",
    "                    figsize=(24,12)\n",
    "                    )\n",
    "\n",
    "ax2 = quarterly.plot(x=\"Quarter\", y=\"TotalQuestions\",\n",
    "                     kind=\"bar\", ax=ax1, secondary_y=True, alpha=0.7, rot=45)\n",
    "\n",
    "for idx, t in quarterly[\"TotalQuestions\"].iteritems():\n",
    "    ax2.text(idx, t, str(t), ha=\"center\", va=\"bottom\")\n",
    "xlims = ax1.get_xlim()\n",
    "\n",
    "ax1.get_legend().remove()\n",
    "\n",
    "handles1, labels1 = ax1.get_legend_handles_labels()\n",
    "handles2, labels2 = ax2.get_legend_handles_labels()\n",
    "ax1.legend(handles=handles1 + handles2,\n",
    "           labels=labels1 + labels2,\n",
    "           loc=\"upper left\", prop={\"size\": 12})\n",
    "\n",
    "\n",
    "for ax in (ax1, ax2):\n",
    "    for where in (\"top\", \"right\"):\n",
    "        ax.spines[where].set_visible(False)\n",
    "        ax.tick_params(right=False, labelright=False)\n"
   ]
  },
  {
   "cell_type": "markdown",
   "metadata": {},
   "source": [
    "Note that we don't have the full data for Q3 of 2021. The rate of people asking deep learning questions has slightly going down from Q4 of 2020 but has since, started to increase again from Q1 of 2021 to Q2 of 2021. Overall the rate at which people inquire about deep learning are consistently high for the past 2 years(over 35% of questions on DSSE are about deep learning), and continue to stay high at the beginning of Q3 of 2021 (almost 35% of the questions being asked are deep learning question). This indicates that there is no evidence to suggest that interest in deep learning is decreasing and it will continue to be a relevent topic in data science.\n",
    "\n",
    "So we can confidently make our suggestion of creation of more Python contents that use deep learning. For example, A tutorial on how to solve a perticular classification problems using keras library on python should be an excellent lecture to make."
   ]
  },
  {
   "cell_type": "code",
   "execution_count": null,
   "metadata": {},
   "outputs": [],
   "source": []
  }
 ],
 "metadata": {
  "kernelspec": {
   "display_name": "Python 3",
   "language": "python",
   "name": "python3"
  },
  "language_info": {
   "codemirror_mode": {
    "name": "ipython",
    "version": 3
   },
   "file_extension": ".py",
   "mimetype": "text/x-python",
   "name": "python",
   "nbconvert_exporter": "python",
   "pygments_lexer": "ipython3",
   "version": "3.8.11"
  }
 },
 "nbformat": 4,
 "nbformat_minor": 2
}
