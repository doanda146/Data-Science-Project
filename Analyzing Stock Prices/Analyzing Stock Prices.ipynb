{
 "cells": [
  {
   "cell_type": "markdown",
   "metadata": {
    "collapsed": true
   },
   "source": [
    "In this project, we'll work with stock market data that was downloaded from [Yahoo Finance](https://finance.yahoo.com/?guccounter=1&guce_referrer=aHR0cHM6Ly9hcHAuZGF0YXF1ZXN0LmlvLw&guce_referrer_sig=AQAAACqeo7O3m5On-juK7FxuzoCqoOPFts5ur3aCAMJaId3zZRZ9ZWJH9ddmV5w256fgodcyLlWIonvjLlz-av_AonrunbL8e99CyVhFSCovDj7zYOFmMe_OTR2MnxyVdygf66fZzWTidgfD9w6uJmRktUF6GRkPz9ZimwZ7vv2zTVxf) using the [yahoo_finance](https://pypi.org/project/yahoo-finance/) Python package. This data consists of the daily stock prices from 2007-1-1 to 2017-04-17 for several hundred stock symbols traded on the NASDAQ stock exchange, stored in the prices folder.  The download_data.py script in the same folder as the Jupyter notebook was used to download all of the stock price data. Each file in the prices folder is named for a specific stock symbol, and contains the:\n",
    "\n",
    "* date -- date that the data is from.\n",
    "* close -- the closing price on that day, which is the price when the trading day ends.\n",
    "* open -- the opening price on that day, which is the price when the trading day starts.\n",
    "* high -- the highest price the stock reached during trading.\n",
    "* low -- the lowest price the stock reached during trading.\n",
    "* volume -- the number of shares that were traded during the day."
   ]
  },
  {
   "cell_type": "code",
   "execution_count": 2,
   "metadata": {},
   "outputs": [],
   "source": [
    "import os\n",
    "import pandas as pd\n",
    "\n",
    "# Read the data from all CSV files from the prices folder into a \n",
    "# single data structure.\n",
    "\n",
    "stock_prices = {}\n",
    "\n",
    "for fn in os.listdir(\"prices\"):\n",
    "    # Get the name of the file without extension \"aapl.csv\" -> \"aapl\"\n",
    "    name = fn.split(\".\")[0]\n",
    "    stock_prices[name] = pd.read_csv(os.path.join(\"prices\", fn))"
   ]
  },
  {
   "cell_type": "code",
   "execution_count": 3,
   "metadata": {},
   "outputs": [
    {
     "data": {
      "text/html": [
       "<div>\n",
       "<style scoped>\n",
       "    .dataframe tbody tr th:only-of-type {\n",
       "        vertical-align: middle;\n",
       "    }\n",
       "\n",
       "    .dataframe tbody tr th {\n",
       "        vertical-align: top;\n",
       "    }\n",
       "\n",
       "    .dataframe thead th {\n",
       "        text-align: right;\n",
       "    }\n",
       "</style>\n",
       "<table border=\"1\" class=\"dataframe\">\n",
       "  <thead>\n",
       "    <tr style=\"text-align: right;\">\n",
       "      <th></th>\n",
       "      <th>date</th>\n",
       "      <th>close</th>\n",
       "      <th>open</th>\n",
       "      <th>high</th>\n",
       "      <th>low</th>\n",
       "      <th>volume</th>\n",
       "    </tr>\n",
       "  </thead>\n",
       "  <tbody>\n",
       "    <tr>\n",
       "      <th>0</th>\n",
       "      <td>2007-01-03</td>\n",
       "      <td>83.800002</td>\n",
       "      <td>86.289999</td>\n",
       "      <td>86.579999</td>\n",
       "      <td>81.899999</td>\n",
       "      <td>309579900</td>\n",
       "    </tr>\n",
       "    <tr>\n",
       "      <th>1</th>\n",
       "      <td>2007-01-04</td>\n",
       "      <td>85.659998</td>\n",
       "      <td>84.050001</td>\n",
       "      <td>85.949998</td>\n",
       "      <td>83.820003</td>\n",
       "      <td>211815100</td>\n",
       "    </tr>\n",
       "    <tr>\n",
       "      <th>2</th>\n",
       "      <td>2007-01-05</td>\n",
       "      <td>85.049997</td>\n",
       "      <td>85.770000</td>\n",
       "      <td>86.199997</td>\n",
       "      <td>84.400002</td>\n",
       "      <td>208685400</td>\n",
       "    </tr>\n",
       "    <tr>\n",
       "      <th>3</th>\n",
       "      <td>2007-01-08</td>\n",
       "      <td>85.470000</td>\n",
       "      <td>85.959998</td>\n",
       "      <td>86.529998</td>\n",
       "      <td>85.280003</td>\n",
       "      <td>199276700</td>\n",
       "    </tr>\n",
       "    <tr>\n",
       "      <th>4</th>\n",
       "      <td>2007-01-09</td>\n",
       "      <td>92.570003</td>\n",
       "      <td>86.450003</td>\n",
       "      <td>92.979999</td>\n",
       "      <td>85.150000</td>\n",
       "      <td>837324600</td>\n",
       "    </tr>\n",
       "  </tbody>\n",
       "</table>\n",
       "</div>"
      ],
      "text/plain": [
       "         date      close       open       high        low     volume\n",
       "0  2007-01-03  83.800002  86.289999  86.579999  81.899999  309579900\n",
       "1  2007-01-04  85.659998  84.050001  85.949998  83.820003  211815100\n",
       "2  2007-01-05  85.049997  85.770000  86.199997  84.400002  208685400\n",
       "3  2007-01-08  85.470000  85.959998  86.529998  85.280003  199276700\n",
       "4  2007-01-09  92.570003  86.450003  92.979999  85.150000  837324600"
      ]
     },
     "execution_count": 3,
     "metadata": {},
     "output_type": "execute_result"
    }
   ],
   "source": [
    "stock_prices[\"aapl\"].head()"
   ]
  },
  {
   "cell_type": "code",
   "execution_count": 4,
   "metadata": {},
   "outputs": [],
   "source": [
    "# Calculate the average closing price of each stock\n",
    "avg_closing_prices = {}\n",
    "for stock_sym in stock_prices:\n",
    "    avg_closing_prices[stock_sym] = stock_prices[stock_sym]['close'].mean()"
   ]
  },
  {
   "cell_type": "code",
   "execution_count": 14,
   "metadata": {},
   "outputs": [
    {
     "name": "stdout",
     "output_type": "stream",
     "text": [
      "Stock symbol with the minimum average closing price\n"
     ]
    },
    {
     "data": {
      "text/plain": [
       "(0.8122763011583011, 'blfs')"
      ]
     },
     "execution_count": 14,
     "metadata": {},
     "output_type": "execute_result"
    }
   ],
   "source": [
    "pairs = [(avg_closing_prices[stock_sym], stock_sym) for key in avg_closing_prices]\n",
    "pairs.sort()\n",
    "print('Stock symbol with the minimum average closing price')\n",
    "pairs[0]"
   ]
  },
  {
   "cell_type": "code",
   "execution_count": 15,
   "metadata": {},
   "outputs": [
    {
     "name": "stdout",
     "output_type": "stream",
     "text": [
      "Stock symbol with the maximum average closing price\n"
     ]
    },
    {
     "data": {
      "text/plain": [
       "(275.13407757104255, 'amzn')"
      ]
     },
     "execution_count": 15,
     "metadata": {},
     "output_type": "execute_result"
    }
   ],
   "source": [
    "print('Stock symbol with the maximum average closing price')\n",
    "pairs[-1]"
   ]
  },
  {
   "cell_type": "markdown",
   "metadata": {},
   "source": [
    "## Organizing the trades per date"
   ]
  },
  {
   "cell_type": "code",
   "execution_count": 19,
   "metadata": {},
   "outputs": [],
   "source": [
    "trades_by_date = {}\n",
    "for stock_sym in stock_prices:\n",
    "    for index,row in stock_prices[k].iterrows():\n",
    "        date = row['date']\n",
    "        volume = row['volume']\n",
    "        pair = (volume, stock_sym)\n",
    "        if date not in trades_by_date:\n",
    "            trades_by_date[date] = []\n",
    "        trades_by_date[date].append(pair)        "
   ]
  },
  {
   "cell_type": "markdown",
   "metadata": {},
   "source": [
    "## Finding The Most Traded Stock Each Day"
   ]
  },
  {
   "cell_type": "code",
   "execution_count": 24,
   "metadata": {},
   "outputs": [],
   "source": [
    "most_traded_by_date = {}\n",
    "\n",
    "for date in trades_by_date:\n",
    "    trades_by_date[date].sort()\n",
    "    most_traded_by_date[date] = trades_by_date[date][-1]"
   ]
  },
  {
   "cell_type": "code",
   "execution_count": 27,
   "metadata": {
    "scrolled": true
   },
   "outputs": [
    {
     "name": "stdout",
     "output_type": "stream",
     "text": [
      "Most traded stock on 2007-01-03\n",
      "(309579900, 'aapl')\n",
      "Most traded stock on 2007-01-04\n",
      "(211815100, 'aapl')\n",
      "Most traded stock on 2007-01-05\n",
      "(208685400, 'aapl')\n",
      "Most traded stock on 2007-01-08\n",
      "(199276700, 'aapl')\n"
     ]
    }
   ],
   "source": [
    "# Checking the data structure\n",
    "dates = ['2007-01-03', '2007-01-04', '2007-01-05', '2007-01-08']\n",
    "for date in dates:\n",
    "    print('Most traded stock on {}'.format(date))\n",
    "    print(most_traded_by_date[date])"
   ]
  },
  {
   "cell_type": "markdown",
   "metadata": {},
   "source": [
    "## Finding High Volume Days"
   ]
  },
  {
   "cell_type": "code",
   "execution_count": 43,
   "metadata": {},
   "outputs": [
    {
     "name": "stdout",
     "output_type": "stream",
     "text": [
      "Top 10 days with the most trade volume\n"
     ]
    },
    {
     "data": {
      "text/plain": [
       "[(1964583900, '2008-01-23'),\n",
       " (1770266900, '2008-10-10'),\n",
       " (1611272800, '2007-07-26'),\n",
       " (1599183500, '2008-10-08'),\n",
       " (1578877700, '2008-01-22'),\n",
       " (1559032100, '2008-02-07'),\n",
       " (1555072400, '2008-09-29'),\n",
       " (1553880500, '2007-11-08'),\n",
       " (1536176400, '2008-01-16'),\n",
       " (1533363200, '2008-01-24')]"
      ]
     },
     "execution_count": 43,
     "metadata": {},
     "output_type": "execute_result"
    }
   ],
   "source": [
    "daily_volumes = []\n",
    "\n",
    "for date in trades_by_date:\n",
    "    day_volume = sum([volume for volume, _ in trades_by_date[date]])\n",
    "    daily_volumes.append((day_volume, date))\n",
    "\n",
    "daily_volumes.sort(reverse = True)\n",
    "print('Top 10 days with the most trade volume')\n",
    "daily_volumes[:10]"
   ]
  },
  {
   "cell_type": "markdown",
   "metadata": {},
   "source": [
    "## Finding the Most Profitable Stocks"
   ]
  },
  {
   "cell_type": "code",
   "execution_count": 32,
   "metadata": {},
   "outputs": [
    {
     "data": {
      "text/plain": [
       "[(7483.8389225948395, 'admp'),\n",
       " (4005.0000000000005, 'adxs'),\n",
       " (3898.6004898285596, 'arcw'),\n",
       " (2437.4365640858978, 'blfs'),\n",
       " (2230.7234281466817, 'amzn'),\n",
       " (1707.3554472785036, 'anip'),\n",
       " (1549.6700659868027, 'apdn'),\n",
       " (1525.162516251625, 'cui'),\n",
       " (1339.2137535980346, 'bcli'),\n",
       " (1330.0000666666667, 'achc')]"
      ]
     },
     "execution_count": 32,
     "metadata": {},
     "output_type": "execute_result"
    }
   ],
   "source": [
    "percentages = []\n",
    "\n",
    "for stock_sym in stock_prices:\n",
    "    prices = stock_prices[stock_sym]\n",
    "    initial = prices.loc[0, \"close\"]\n",
    "    final = prices.loc[len(prices) - 1, \"close\"]\n",
    "    percentage = 100 * (final - initial) / initial\n",
    "    percentages.append((percentage, stock_sym))\n",
    "\n",
    "percentages.sort(reverse = True)\n",
    "\n",
    "percentages[:10]"
   ]
  },
  {
   "cell_type": "code",
   "execution_count": 41,
   "metadata": {},
   "outputs": [
    {
     "name": "stdout",
     "output_type": "stream",
     "text": [
      "Initial price of ADMP's stock\n",
      "0.059996\n",
      "Final price of ADMP's stock\n",
      "4.55\n"
     ]
    }
   ],
   "source": [
    "print(\"Initial price of ADMP's stock\")\n",
    "print(stock_prices['admp'].loc[0,'close'])\n",
    "print(\"Final price of ADMP's stock\")\n",
    "print(stock_prices['admp'].loc[len(stock_prices['admp'])-1,'close'])"
   ]
  },
  {
   "cell_type": "markdown",
   "metadata": {},
   "source": [
    "The most profitable stock to buy in 2007 would have been ADMP, which appreciated from around 6 cents to its current price of 4.55 dollars."
   ]
  }
 ],
 "metadata": {
  "kernelspec": {
   "display_name": "Python 3",
   "language": "python",
   "name": "python3"
  },
  "language_info": {
   "codemirror_mode": {
    "name": "ipython",
    "version": 3
   },
   "file_extension": ".py",
   "mimetype": "text/x-python",
   "name": "python",
   "nbconvert_exporter": "python",
   "pygments_lexer": "ipython3",
   "version": "3.8.5"
  }
 },
 "nbformat": 4,
 "nbformat_minor": 1
}
